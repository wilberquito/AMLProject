{
  "cells": [
    {
      "cell_type": "markdown",
      "metadata": {
        "id": "view-in-github",
        "colab_type": "text"
      },
      "source": [
        "<a href=\"https://colab.research.google.com/github/wilberquito/AMLProject/blob/main/Ensemble.ipynb\" target=\"_parent\"><img src=\"https://colab.research.google.com/assets/colab-badge.svg\" alt=\"Open In Colab\"/></a>"
      ]
    },
    {
      "cell_type": "markdown",
      "metadata": {
        "id": "b9R-jL0O6K3R"
      },
      "source": [
        "# Deep Learning Project: Image Classification\n",
        "## Advanced Machine Learning\n",
        "\n",
        "\n",
        "> Wilber E. Bermeo Quito \n",
        ">\n",
        "> Judit Quintana Massana\n",
        ">\n",
        "> April 2023"
      ]
    },
    {
      "cell_type": "markdown",
      "source": [
        "## Inference for valid and test sets"
      ],
      "metadata": {
        "id": "_qUKlD3kqDaY"
      }
    },
    {
      "cell_type": "code",
      "source": [
        "import zipfile\n",
        "from pathlib import Path\n",
        "import torch\n",
        "import matplotlib.pyplot as plt"
      ],
      "metadata": {
        "id": "aMRrlQwQjqBu"
      },
      "execution_count": 1,
      "outputs": []
    },
    {
      "cell_type": "code",
      "source": [
        "try:\n",
        "    import google.colab\n",
        "    IN_COLAB = True\n",
        "    ! pip install torchvision\n",
        "    ! pip install torchinfo\n",
        "    \n",
        "    from google.colab import drive\n",
        "    drive.mount('/content/drive')\n",
        "\n",
        "    !rm -rf data\n",
        "    data_path = Path('/content/drive/MyDrive/AML/dataset_CIFAR10.zip')\n",
        "    with zipfile.ZipFile(data_path,\"r\") as zip_ref:\n",
        "        zip_ref.extractall(\"data\")\n",
        "\n",
        "    !rm -rf test\n",
        "    data_path = Path('/content/drive/MyDrive/AML/test_unlabelled.zip')\n",
        "    with zipfile.ZipFile(data_path,\"r\") as zip_ref:\n",
        "        zip_ref.extractall(\"test\")\n",
        "\n",
        "    !rm -rf modular\n",
        "    data_path = Path('/content/drive/MyDrive/AML/modular.zip')\n",
        "    with zipfile.ZipFile(data_path,\"r\") as zip_ref:\n",
        "        zip_ref.extractall(\".\")\n",
        "\n",
        "    # Getting the trained models\n",
        "    !rm -rf trained\n",
        "    !cp -rf /content/drive/MyDrive/AML/trained ./trained\n",
        "\n",
        "    # Getting the predictions\n",
        "    !rm -rf ensemble\n",
        "    !cp -rf /content/drive/MyDrive/AML/ensemble ./ensemble\n",
        "except:\n",
        "    IN_COLAB = False"
      ],
      "metadata": {
        "colab": {
          "base_uri": "https://localhost:8080/"
        },
        "id": "tVf-IA6rjryO",
        "outputId": "466c7548-4502-41a1-e51e-5a09a194f5b6"
      },
      "execution_count": 2,
      "outputs": [
        {
          "output_type": "stream",
          "name": "stdout",
          "text": [
            "Looking in indexes: https://pypi.org/simple, https://us-python.pkg.dev/colab-wheels/public/simple/\n",
            "Requirement already satisfied: torchvision in /usr/local/lib/python3.9/dist-packages (0.15.1+cu118)\n",
            "Requirement already satisfied: numpy in /usr/local/lib/python3.9/dist-packages (from torchvision) (1.22.4)\n",
            "Requirement already satisfied: torch==2.0.0 in /usr/local/lib/python3.9/dist-packages (from torchvision) (2.0.0+cu118)\n",
            "Requirement already satisfied: requests in /usr/local/lib/python3.9/dist-packages (from torchvision) (2.27.1)\n",
            "Requirement already satisfied: pillow!=8.3.*,>=5.3.0 in /usr/local/lib/python3.9/dist-packages (from torchvision) (8.4.0)\n",
            "Requirement already satisfied: networkx in /usr/local/lib/python3.9/dist-packages (from torch==2.0.0->torchvision) (3.1)\n",
            "Requirement already satisfied: jinja2 in /usr/local/lib/python3.9/dist-packages (from torch==2.0.0->torchvision) (3.1.2)\n",
            "Requirement already satisfied: typing-extensions in /usr/local/lib/python3.9/dist-packages (from torch==2.0.0->torchvision) (4.5.0)\n",
            "Requirement already satisfied: triton==2.0.0 in /usr/local/lib/python3.9/dist-packages (from torch==2.0.0->torchvision) (2.0.0)\n",
            "Requirement already satisfied: filelock in /usr/local/lib/python3.9/dist-packages (from torch==2.0.0->torchvision) (3.11.0)\n",
            "Requirement already satisfied: sympy in /usr/local/lib/python3.9/dist-packages (from torch==2.0.0->torchvision) (1.11.1)\n",
            "Requirement already satisfied: lit in /usr/local/lib/python3.9/dist-packages (from triton==2.0.0->torch==2.0.0->torchvision) (16.0.1)\n",
            "Requirement already satisfied: cmake in /usr/local/lib/python3.9/dist-packages (from triton==2.0.0->torch==2.0.0->torchvision) (3.25.2)\n",
            "Requirement already satisfied: idna<4,>=2.5 in /usr/local/lib/python3.9/dist-packages (from requests->torchvision) (3.4)\n",
            "Requirement already satisfied: certifi>=2017.4.17 in /usr/local/lib/python3.9/dist-packages (from requests->torchvision) (2022.12.7)\n",
            "Requirement already satisfied: charset-normalizer~=2.0.0 in /usr/local/lib/python3.9/dist-packages (from requests->torchvision) (2.0.12)\n",
            "Requirement already satisfied: urllib3<1.27,>=1.21.1 in /usr/local/lib/python3.9/dist-packages (from requests->torchvision) (1.26.15)\n",
            "Requirement already satisfied: MarkupSafe>=2.0 in /usr/local/lib/python3.9/dist-packages (from jinja2->torch==2.0.0->torchvision) (2.1.2)\n",
            "Requirement already satisfied: mpmath>=0.19 in /usr/local/lib/python3.9/dist-packages (from sympy->torch==2.0.0->torchvision) (1.3.0)\n",
            "Looking in indexes: https://pypi.org/simple, https://us-python.pkg.dev/colab-wheels/public/simple/\n",
            "Collecting torchinfo\n",
            "  Downloading torchinfo-1.7.2-py3-none-any.whl (22 kB)\n",
            "Installing collected packages: torchinfo\n",
            "Successfully installed torchinfo-1.7.2\n",
            "Mounted at /content/drive\n"
          ]
        }
      ]
    },
    {
      "cell_type": "code",
      "source": [
        "from modular.evaluate import val_step\n",
        "import modular.models as models\n",
        "from modular.datasets import TestDataset\n",
        "import modular.datasets as datasets\n",
        "import torch\n",
        "from torchvision.datasets import ImageFolder\n",
        "from torchvision.transforms import ToTensor\n",
        "from torch.utils.data import DataLoader\n",
        "from modular.utils import set_seeds\n",
        "import pandas as pd\n",
        "import torchvision.transforms as transforms\n",
        "\n",
        "\n",
        "set_seeds(seed=42)\n",
        "\n",
        "data_path = \"./test/test_unlabelled\"\n",
        "out_dim = 10\n",
        "n_test = 4\n",
        "device = 'cuda' if torch.cuda.is_available() else 'cpu'\n",
        "\n",
        "models = {\n",
        "    Path('./trained/AMLMAXVIT_T.pth'): models.AMLMAXVIT_T(out_dim),\n",
        "    Path('./trained/amlresnet50.pth'): models.AMLResnet50(out_dim),\n",
        "    Path('./trained/exotic.amlresnet50.pth'): models.AMLResnet50(out_dim),\n",
        "    Path('./trained/AMLResnet50_FastAI.pth'): models.AMLResnet50_FastAI(out_dim),\n",
        "    Path('./trained/amlresnet101.pth'): models.AMLResnet101(out_dim),\n",
        "    Path('./trained/efficientnet_v2_s.pth'): models.AMLEfficientNet_V2_S(out_dim),\n",
        "}\n",
        "\n",
        "evals = [('validation', './data/validation'), \n",
        "         ('test', './test/test_unlabelled')]\n",
        "\n",
        "def dataloader_builder(eval_type, folder_root, transform=None):\n",
        "  if eval_type == 'test':\n",
        "    dataset = TestDataset(folder_root, transform)\n",
        "    dataloader = DataLoader(dataset, batch_size=256, shuffle=False)\n",
        "    names = dataloader.dataset.file_names\n",
        "  else:\n",
        "    dataloader = datasets.get_dataloader(folder_root=folder_root,\n",
        "                                           transformer=transform,\n",
        "                                           batch_size=256,\n",
        "                                           suffle=False)\n",
        "    names = list(map(lambda x : '/'.join(x[0].split('/')[-2:]), dataloader.dataset.imgs))\n",
        "\n",
        "  return dataloader, names\n",
        "\n",
        "  \n",
        "# Validation dataset & dataloader\n",
        "for eval, src in evals:\n",
        "\n",
        "  print('Evaluate step - ' + eval)\n",
        "\n",
        "  for p, m in models.items():\n",
        "  \n",
        "    # Check if prediction is already done\n",
        "    predict_name = Path(f'./ensemble/{eval}/') / Path(p.name.replace('.pth', '.csv'))\n",
        "  \n",
        "    if predict_name.exists():\n",
        "      print(f'Skipping prediction - {p.name}')\n",
        "      continue\n",
        "  \n",
        "    print(f'Evaluating - {p.name}')\n",
        "    # Make prediction\n",
        "    data = torch.load(p, map_location=device)\n",
        "    m.load_state_dict(data['model'])\n",
        "    m = m.to(device)\n",
        "    transform = m.transforms\n",
        "    dataloader, names = dataloader_builder(eval, src, transform)\n",
        "    _, probs, labels = val_step(m, dataloader, \n",
        "                                      device, out_dim, n_test)\n",
        "    \n",
        "    # Serialize prediction to csv\n",
        "    save_as = eval + '.' + p.name.replace('.pth', '.csv')\n",
        "    df = pd.DataFrame(probs)\n",
        "    df.index = names\n",
        "    df.to_csv(save_as)\n",
        "  \n",
        "    # Download prediction \n",
        "    if IN_COLAB:\n",
        "      from google.colab import files\n",
        "      files.download(save_as)"
      ],
      "metadata": {
        "colab": {
          "base_uri": "https://localhost:8080/",
          "height": 790
        },
        "id": "EnBZjuUfjwqW",
        "outputId": "dabe3433-4a41-4a5c-bdc5-7072dfe2ed46"
      },
      "execution_count": 4,
      "outputs": [
        {
          "output_type": "stream",
          "name": "stderr",
          "text": [
            "/usr/local/lib/python3.9/dist-packages/torchvision/models/_utils.py:223: UserWarning: Arguments other than a weight enum or `None` for 'weights' are deprecated since 0.13 and may be removed in the future. The current behavior is equivalent to passing `weights=MaxVit_T_Weights.IMAGENET1K_V1`. You can also use `weights=MaxVit_T_Weights.DEFAULT` to get the most up-to-date weights.\n",
            "  warnings.warn(msg)\n",
            "/usr/local/lib/python3.9/dist-packages/torchvision/models/_utils.py:223: UserWarning: Arguments other than a weight enum or `None` for 'weights' are deprecated since 0.13 and may be removed in the future. The current behavior is equivalent to passing `weights=EfficientNet_V2_S_Weights.IMAGENET1K_V1`. You can also use `weights=EfficientNet_V2_S_Weights.DEFAULT` to get the most up-to-date weights.\n",
            "  warnings.warn(msg)\n"
          ]
        },
        {
          "output_type": "stream",
          "name": "stdout",
          "text": [
            "Evaluate step - validation\n",
            "Skipping prediction - AMLMAXVIT_T.pth\n",
            "Skipping prediction - exotic.amlresnet50.pth\n",
            "Skipping prediction - AMLResnet50_FastAI.pth\n",
            "Skipping prediction - amlresnet101.pth\n",
            "Skipping prediction - efficientnet_v2_s.pth\n",
            "Evaluate step - test\n",
            "Skipping prediction - AMLMAXVIT_T.pth\n",
            "Evaluating - exotic.amlresnet50.pth\n",
            "Compose(\n",
            "    Resize(size=232, interpolation=bilinear, max_size=None, antialias=warn)\n",
            "    CenterCrop(size=(224, 224))\n",
            "    ToTensor()\n",
            "    Normalize(mean=[0.485, 0.456, 0.406], std=[0.229, 0.224, 0.225])\n",
            ")\n",
            "10000\n"
          ]
        },
        {
          "output_type": "stream",
          "name": "stderr",
          "text": [
            " 25%|██▌       | 10/40 [00:36<01:49,  3.66s/it]\n"
          ]
        },
        {
          "output_type": "error",
          "ename": "KeyboardInterrupt",
          "evalue": "ignored",
          "traceback": [
            "\u001b[0;31m---------------------------------------------------------------------------\u001b[0m",
            "\u001b[0;31mKeyboardInterrupt\u001b[0m                         Traceback (most recent call last)",
            "\u001b[0;32m<ipython-input-4-da0bc58eb420>\u001b[0m in \u001b[0;36m<cell line: 50>\u001b[0;34m()\u001b[0m\n\u001b[1;32m     68\u001b[0m     \u001b[0mtransform\u001b[0m \u001b[0;34m=\u001b[0m \u001b[0mm\u001b[0m\u001b[0;34m.\u001b[0m\u001b[0mtransforms\u001b[0m\u001b[0;34m\u001b[0m\u001b[0;34m\u001b[0m\u001b[0m\n\u001b[1;32m     69\u001b[0m     \u001b[0mdataloader\u001b[0m\u001b[0;34m,\u001b[0m \u001b[0mnames\u001b[0m \u001b[0;34m=\u001b[0m \u001b[0mdataloader_builder\u001b[0m\u001b[0;34m(\u001b[0m\u001b[0meval\u001b[0m\u001b[0;34m,\u001b[0m \u001b[0msrc\u001b[0m\u001b[0;34m,\u001b[0m \u001b[0mtransform\u001b[0m\u001b[0;34m)\u001b[0m\u001b[0;34m\u001b[0m\u001b[0;34m\u001b[0m\u001b[0m\n\u001b[0;32m---> 70\u001b[0;31m     _, probs, labels = val_step(m, dataloader, \n\u001b[0m\u001b[1;32m     71\u001b[0m                                       device, out_dim, n_test)\n\u001b[1;32m     72\u001b[0m \u001b[0;34m\u001b[0m\u001b[0m\n",
            "\u001b[0;32m/usr/local/lib/python3.9/dist-packages/torch/utils/_contextlib.py\u001b[0m in \u001b[0;36mdecorate_context\u001b[0;34m(*args, **kwargs)\u001b[0m\n\u001b[1;32m    113\u001b[0m     \u001b[0;32mdef\u001b[0m \u001b[0mdecorate_context\u001b[0m\u001b[0;34m(\u001b[0m\u001b[0;34m*\u001b[0m\u001b[0margs\u001b[0m\u001b[0;34m,\u001b[0m \u001b[0;34m**\u001b[0m\u001b[0mkwargs\u001b[0m\u001b[0;34m)\u001b[0m\u001b[0;34m:\u001b[0m\u001b[0;34m\u001b[0m\u001b[0;34m\u001b[0m\u001b[0m\n\u001b[1;32m    114\u001b[0m         \u001b[0;32mwith\u001b[0m \u001b[0mctx_factory\u001b[0m\u001b[0;34m(\u001b[0m\u001b[0;34m)\u001b[0m\u001b[0;34m:\u001b[0m\u001b[0;34m\u001b[0m\u001b[0;34m\u001b[0m\u001b[0m\n\u001b[0;32m--> 115\u001b[0;31m             \u001b[0;32mreturn\u001b[0m \u001b[0mfunc\u001b[0m\u001b[0;34m(\u001b[0m\u001b[0;34m*\u001b[0m\u001b[0margs\u001b[0m\u001b[0;34m,\u001b[0m \u001b[0;34m**\u001b[0m\u001b[0mkwargs\u001b[0m\u001b[0;34m)\u001b[0m\u001b[0;34m\u001b[0m\u001b[0;34m\u001b[0m\u001b[0m\n\u001b[0m\u001b[1;32m    116\u001b[0m \u001b[0;34m\u001b[0m\u001b[0m\n\u001b[1;32m    117\u001b[0m     \u001b[0;32mreturn\u001b[0m \u001b[0mdecorate_context\u001b[0m\u001b[0;34m\u001b[0m\u001b[0;34m\u001b[0m\u001b[0m\n",
            "\u001b[0;32m/content/modular/evaluate.py\u001b[0m in \u001b[0;36mval_step\u001b[0;34m(model, loader, device, out_dim, n_test)\u001b[0m\n\u001b[1;32m     60\u001b[0m         \u001b[0mlabels\u001b[0m \u001b[0;34m=\u001b[0m \u001b[0mtorch\u001b[0m\u001b[0;34m.\u001b[0m\u001b[0margmax\u001b[0m\u001b[0;34m(\u001b[0m\u001b[0mprobs\u001b[0m\u001b[0;34m,\u001b[0m \u001b[0mdim\u001b[0m\u001b[0;34m=\u001b[0m\u001b[0;36m1\u001b[0m\u001b[0;34m)\u001b[0m\u001b[0;34m\u001b[0m\u001b[0;34m\u001b[0m\u001b[0m\n\u001b[1;32m     61\u001b[0m \u001b[0;34m\u001b[0m\u001b[0m\n\u001b[0;32m---> 62\u001b[0;31m         \u001b[0mLOGITS\u001b[0m\u001b[0;34m.\u001b[0m\u001b[0mappend\u001b[0m\u001b[0;34m(\u001b[0m\u001b[0mlogits\u001b[0m\u001b[0;34m.\u001b[0m\u001b[0mdetach\u001b[0m\u001b[0;34m(\u001b[0m\u001b[0;34m)\u001b[0m\u001b[0;34m.\u001b[0m\u001b[0mcpu\u001b[0m\u001b[0;34m(\u001b[0m\u001b[0;34m)\u001b[0m\u001b[0;34m)\u001b[0m\u001b[0;34m\u001b[0m\u001b[0;34m\u001b[0m\u001b[0m\n\u001b[0m\u001b[1;32m     63\u001b[0m         \u001b[0mPROBS\u001b[0m\u001b[0;34m.\u001b[0m\u001b[0mappend\u001b[0m\u001b[0;34m(\u001b[0m\u001b[0mprobs\u001b[0m\u001b[0;34m.\u001b[0m\u001b[0mdetach\u001b[0m\u001b[0;34m(\u001b[0m\u001b[0;34m)\u001b[0m\u001b[0;34m.\u001b[0m\u001b[0mcpu\u001b[0m\u001b[0;34m(\u001b[0m\u001b[0;34m)\u001b[0m\u001b[0;34m)\u001b[0m\u001b[0;34m\u001b[0m\u001b[0;34m\u001b[0m\u001b[0m\n\u001b[1;32m     64\u001b[0m         \u001b[0mLABELS\u001b[0m\u001b[0;34m.\u001b[0m\u001b[0mappend\u001b[0m\u001b[0;34m(\u001b[0m\u001b[0mlabels\u001b[0m\u001b[0;34m.\u001b[0m\u001b[0mdetach\u001b[0m\u001b[0;34m(\u001b[0m\u001b[0;34m)\u001b[0m\u001b[0;34m.\u001b[0m\u001b[0mcpu\u001b[0m\u001b[0;34m(\u001b[0m\u001b[0;34m)\u001b[0m\u001b[0;34m)\u001b[0m\u001b[0;34m\u001b[0m\u001b[0;34m\u001b[0m\u001b[0m\n",
            "\u001b[0;31mKeyboardInterrupt\u001b[0m: "
          ]
        }
      ]
    },
    {
      "cell_type": "markdown",
      "source": [
        "## Ensemble (validation)"
      ],
      "metadata": {
        "id": "Awb3urKRqIng"
      }
    },
    {
      "cell_type": "markdown",
      "source": [
        "The accuracy of the ensemble may change deppending on the differente models we use."
      ],
      "metadata": {
        "id": "MWssczbUIoBY"
      }
    },
    {
      "cell_type": "code",
      "source": [
        "from modular.ensemble import ensemble\n",
        "ensemble_csv_name = 'val.ensemble.csv'\n",
        "parent_dir = './ensemble/validation'\n",
        "\n",
        "ensemble(parent_dir, ensemble_csv_name, with_probs=True)"
      ],
      "metadata": {
        "id": "j5EMP8kujnWu"
      },
      "execution_count": null,
      "outputs": []
    },
    {
      "cell_type": "code",
      "source": [
        "import torchvision\n",
        "\n",
        "dataloader = datasets.get_dataloader(folder_root='./data/validation',\n",
        "                                     transformer=torchvision.transforms.ToTensor(),\n",
        "                                     batch_size=256,\n",
        "                                     suffle=False)"
      ],
      "metadata": {
        "id": "vjAIaxgX7ikA"
      },
      "execution_count": null,
      "outputs": []
    },
    {
      "cell_type": "code",
      "source": [
        "from modular.utils import accuracy_fn\n",
        "\n",
        "# Compute the labels of the validation set\n",
        "labels = torch.tensor([])\n",
        "for _, y in dataloader:\n",
        "  labels = torch.cat([labels, y], dim=0)\n",
        "\n",
        "# Load the labels of the ensemble\n",
        "val_csv = pd.read_csv('./val.ensemble.csv')\n",
        "val_labels = val_csv['class']\n",
        "val_labels = val_labels.values\n",
        "val_labels = torch.tensor(val_labels)\n",
        "\n",
        "# Calculate the accuracy\n",
        "accuracy_fn(labels, val_labels)"
      ],
      "metadata": {
        "id": "DEe2asrQBZDE",
        "outputId": "db074b65-331f-45e3-bd5a-b0a9763076c6",
        "colab": {
          "base_uri": "https://localhost:8080/"
        }
      },
      "execution_count": null,
      "outputs": [
        {
          "output_type": "execute_result",
          "data": {
            "text/plain": [
              "84.68"
            ]
          },
          "metadata": {},
          "execution_count": 29
        }
      ]
    },
    {
      "cell_type": "markdown",
      "source": [
        "## Ensemble (test)"
      ],
      "metadata": {
        "id": "3-m7b-IJIzmU"
      }
    },
    {
      "cell_type": "code",
      "source": [
        "from modular.ensemble import ensemble\n",
        "ensemble_csv_name = 'test.ensemble.csv'\n",
        "parent_dir = './ensemble/test'\n",
        "\n",
        "ensemble(parent_dir, ensemble_csv_name, with_probs=True)"
      ],
      "metadata": {
        "id": "pPFyfkWaIzJU"
      },
      "execution_count": null,
      "outputs": []
    }
  ],
  "metadata": {
    "colab": {
      "provenance": [],
      "include_colab_link": true
    },
    "kernelspec": {
      "display_name": "Python 3",
      "name": "python3"
    },
    "language_info": {
      "codemirror_mode": {
        "name": "ipython",
        "version": 3
      },
      "file_extension": ".py",
      "mimetype": "text/x-python",
      "name": "python",
      "nbconvert_exporter": "python",
      "pygments_lexer": "ipython3",
      "version": "3.9.16"
    },
    "accelerator": "GPU",
    "gpuClass": "standard"
  },
  "nbformat": 4,
  "nbformat_minor": 0
}