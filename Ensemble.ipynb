{
  "cells": [
    {
      "cell_type": "markdown",
      "metadata": {
        "id": "view-in-github",
        "colab_type": "text"
      },
      "source": [
        "<a href=\"https://colab.research.google.com/github/wilberquito/AMLProject/blob/main/Ensemble.ipynb\" target=\"_parent\"><img src=\"https://colab.research.google.com/assets/colab-badge.svg\" alt=\"Open In Colab\"/></a>"
      ]
    },
    {
      "cell_type": "markdown",
      "metadata": {
        "id": "b9R-jL0O6K3R"
      },
      "source": [
        "# Deep Learning Project: Image Classification\n",
        "## Advanced Machine Learning\n",
        "\n",
        "\n",
        "> Wilber E. Bermeo Quito \n",
        ">\n",
        "> Judit Quintana Massana\n",
        ">\n",
        "> April 2023"
      ]
    },
    {
      "cell_type": "code",
      "source": [
        "import zipfile\n",
        "from pathlib import Path\n",
        "import torch\n",
        "import matplotlib.pyplot as plt"
      ],
      "metadata": {
        "id": "aMRrlQwQjqBu"
      },
      "execution_count": 1,
      "outputs": []
    },
    {
      "cell_type": "code",
      "source": [
        "try:\n",
        "    import google.colab\n",
        "    IN_COLAB = True\n",
        "    ! pip install torchvision\n",
        "    ! pip install torchinfo\n",
        "    \n",
        "    from google.colab import drive\n",
        "    drive.mount('/content/drive')\n",
        "\n",
        "    !rm -rf test\n",
        "    data_path = Path('/content/drive/MyDrive/AML/test_unlabelled.zip')\n",
        "    with zipfile.ZipFile(data_path,\"r\") as zip_ref:\n",
        "        zip_ref.extractall(\"test\")\n",
        "\n",
        "    !rm -rf modular\n",
        "    data_path = Path('/content/drive/MyDrive/AML/modular.zip')\n",
        "    with zipfile.ZipFile(data_path,\"r\") as zip_ref:\n",
        "        zip_ref.extractall(\".\")\n",
        "\n",
        "    !rm -rf trained\n",
        "    !cp -rf /content/drive/MyDrive/AML/trained ./trained\n",
        "except:\n",
        "    IN_COLAB = False"
      ],
      "metadata": {
        "colab": {
          "base_uri": "https://localhost:8080/"
        },
        "id": "tVf-IA6rjryO",
        "outputId": "c66ba812-e280-45d6-8836-a8480dee1731"
      },
      "execution_count": 2,
      "outputs": [
        {
          "output_type": "stream",
          "name": "stdout",
          "text": [
            "Looking in indexes: https://pypi.org/simple, https://us-python.pkg.dev/colab-wheels/public/simple/\n",
            "Requirement already satisfied: torchvision in /usr/local/lib/python3.9/dist-packages (0.15.1+cu118)\n",
            "Requirement already satisfied: numpy in /usr/local/lib/python3.9/dist-packages (from torchvision) (1.22.4)\n",
            "Requirement already satisfied: requests in /usr/local/lib/python3.9/dist-packages (from torchvision) (2.27.1)\n",
            "Requirement already satisfied: torch==2.0.0 in /usr/local/lib/python3.9/dist-packages (from torchvision) (2.0.0+cu118)\n",
            "Requirement already satisfied: pillow!=8.3.*,>=5.3.0 in /usr/local/lib/python3.9/dist-packages (from torchvision) (8.4.0)\n",
            "Requirement already satisfied: filelock in /usr/local/lib/python3.9/dist-packages (from torch==2.0.0->torchvision) (3.10.7)\n",
            "Requirement already satisfied: triton==2.0.0 in /usr/local/lib/python3.9/dist-packages (from torch==2.0.0->torchvision) (2.0.0)\n",
            "Requirement already satisfied: networkx in /usr/local/lib/python3.9/dist-packages (from torch==2.0.0->torchvision) (3.0)\n",
            "Requirement already satisfied: sympy in /usr/local/lib/python3.9/dist-packages (from torch==2.0.0->torchvision) (1.11.1)\n",
            "Requirement already satisfied: typing-extensions in /usr/local/lib/python3.9/dist-packages (from torch==2.0.0->torchvision) (4.5.0)\n",
            "Requirement already satisfied: jinja2 in /usr/local/lib/python3.9/dist-packages (from torch==2.0.0->torchvision) (3.1.2)\n",
            "Requirement already satisfied: lit in /usr/local/lib/python3.9/dist-packages (from triton==2.0.0->torch==2.0.0->torchvision) (16.0.0)\n",
            "Requirement already satisfied: cmake in /usr/local/lib/python3.9/dist-packages (from triton==2.0.0->torch==2.0.0->torchvision) (3.25.2)\n",
            "Requirement already satisfied: urllib3<1.27,>=1.21.1 in /usr/local/lib/python3.9/dist-packages (from requests->torchvision) (1.26.15)\n",
            "Requirement already satisfied: charset-normalizer~=2.0.0 in /usr/local/lib/python3.9/dist-packages (from requests->torchvision) (2.0.12)\n",
            "Requirement already satisfied: idna<4,>=2.5 in /usr/local/lib/python3.9/dist-packages (from requests->torchvision) (3.4)\n",
            "Requirement already satisfied: certifi>=2017.4.17 in /usr/local/lib/python3.9/dist-packages (from requests->torchvision) (2022.12.7)\n",
            "Requirement already satisfied: MarkupSafe>=2.0 in /usr/local/lib/python3.9/dist-packages (from jinja2->torch==2.0.0->torchvision) (2.1.2)\n",
            "Requirement already satisfied: mpmath>=0.19 in /usr/local/lib/python3.9/dist-packages (from sympy->torch==2.0.0->torchvision) (1.3.0)\n",
            "Looking in indexes: https://pypi.org/simple, https://us-python.pkg.dev/colab-wheels/public/simple/\n",
            "Requirement already satisfied: torchinfo in /usr/local/lib/python3.9/dist-packages (1.7.2)\n",
            "Drive already mounted at /content/drive; to attempt to forcibly remount, call drive.mount(\"/content/drive\", force_remount=True).\n"
          ]
        }
      ]
    },
    {
      "cell_type": "code",
      "source": [
        "from modular.evaluate import val_step\n",
        "import modular.models as models\n",
        "from modular.datasets import TestDataset\n",
        "import torch\n",
        "from torchvision.datasets import ImageFolder\n",
        "from torchvision.transforms import ToTensor\n",
        "from torch.utils.data import DataLoader\n",
        "\n",
        "data_path = \"./test/test_unlabelled\"\n",
        "out_dim = 10\n",
        "n_test = 4\n",
        "device = 'cuda' if torch.cuda.is_available() else 'cpu'\n",
        "models = {\n",
        "    Path('./trained/AMLMAXVIT_T.pth'): models.AMLMAXVIT_T(out_dim)\n",
        "}\n",
        "\n",
        "Path('./predict').mkdir(exist_ok=True, parents=True)\n",
        "\n",
        "for p, m in models.items():\n",
        "  data = torch.load(p, map_location=device)\n",
        "  m.load_state_dict(data['model'])\n",
        "  m = m.to(device)\n",
        "  transform = m.transforms\n",
        "  dataset = TestDataset(data_path, transform)\n",
        "  dataloader = DataLoader(dataset, batch_size=256, shuffle=False)\n",
        "  _, probs, labels = val_step(m, dataloader, \n",
        "                                    device, out_dim, n_test)\n",
        "  \n",
        "  predict_name = Path('./predict') / Path(p.name.replace('.pth', '.csv'))\n",
        "  df = pd.DataFrame(probs)\n",
        "  df.index = dataset.file_names\n",
        "  df.to_csv(predict_name)"
      ],
      "metadata": {
        "colab": {
          "base_uri": "https://localhost:8080/"
        },
        "id": "EnBZjuUfjwqW",
        "outputId": "c5e47b17-443c-4401-8969-584e78ce48d2"
      },
      "execution_count": 17,
      "outputs": [
        {
          "metadata": {
            "tags": null
          },
          "name": "stderr",
          "output_type": "stream",
          "text": [
            "/usr/local/lib/python3.9/dist-packages/torchvision/models/_utils.py:223: UserWarning: Arguments other than a weight enum or `None` for 'weights' are deprecated since 0.13 and may be removed in the future. The current behavior is equivalent to passing `weights=MaxVit_T_Weights.IMAGENET1K_V1`. You can also use `weights=MaxVit_T_Weights.DEFAULT` to get the most up-to-date weights.\n",
            "  warnings.warn(msg)\n",
            "100%|██████████| 40/40 [05:29<00:00,  8.23s/it]\n"
          ]
        }
      ]
    },
    {
      "cell_type": "code",
      "source": [
        "probs.shape, labels.shape"
      ],
      "metadata": {
        "colab": {
          "base_uri": "https://localhost:8080/"
        },
        "id": "4bPzLBt4kDkB",
        "outputId": "a5aa0652-82a8-4672-9274-1cde6049e674"
      },
      "execution_count": 6,
      "outputs": [
        {
          "output_type": "execute_result",
          "data": {
            "text/plain": [
              "((10000, 10), (10000,))"
            ]
          },
          "metadata": {},
          "execution_count": 6
        }
      ]
    },
    {
      "cell_type": "code",
      "source": [
        "dataset.file_names"
      ],
      "metadata": {
        "id": "fO5FCP1a0CMX"
      },
      "execution_count": null,
      "outputs": []
    },
    {
      "cell_type": "code",
      "source": [
        "p.name.replace('.pth', '.csv')"
      ],
      "metadata": {
        "colab": {
          "base_uri": "https://localhost:8080/",
          "height": 35
        },
        "id": "hrQm7z9x0j01",
        "outputId": "0a6a2546-01de-468f-cc44-98ecb61ee361"
      },
      "execution_count": 16,
      "outputs": [
        {
          "output_type": "execute_result",
          "data": {
            "text/plain": [
              "'AMLMAXVIT_T.csv'"
            ],
            "application/vnd.google.colaboratory.intrinsic+json": {
              "type": "string"
            }
          },
          "metadata": {},
          "execution_count": 16
        }
      ]
    },
    {
      "cell_type": "code",
      "source": [
        "import pandas as pd\n",
        "df = pd.DataFrame(probs)\n",
        "df.index = dataset.file_names\n",
        "df"
      ],
      "metadata": {
        "colab": {
          "base_uri": "https://localhost:8080/",
          "height": 487
        },
        "id": "AJ-kOOXLzd6H",
        "outputId": "9d4db7a7-ef66-48a0-cfc3-e4fdf84df8f8"
      },
      "execution_count": 11,
      "outputs": [
        {
          "output_type": "execute_result",
          "data": {
            "text/plain": [
              "                 0         1         2         3         4         5  \\\n",
              "0000.jpg  0.567783  0.030058  0.024534  0.288866  0.030749  0.040912   \n",
              "0001.jpg  0.006919  0.000088  0.301789  0.059635  0.508114  0.074919   \n",
              "0002.jpg  0.000558  0.000058  0.000794  0.827720  0.018211  0.108021   \n",
              "0003.jpg  0.300947  0.011649  0.097755  0.317119  0.181971  0.060811   \n",
              "0004.jpg  0.001281  0.093503  0.003096  0.541092  0.003325  0.001667   \n",
              "...            ...       ...       ...       ...       ...       ...   \n",
              "9995.jpg  0.007706  0.000102  0.009481  0.105587  0.031172  0.292029   \n",
              "9996.jpg  0.138847  0.842912  0.000186  0.000272  0.000173  0.000179   \n",
              "9997.jpg  0.009696  0.964427  0.002755  0.002297  0.000281  0.001827   \n",
              "9998.jpg  0.001570  0.000142  0.062728  0.527038  0.096917  0.234054   \n",
              "9999.jpg  0.435254  0.002933  0.006166  0.001395  0.002118  0.001848   \n",
              "\n",
              "                 6         7         8         9  \n",
              "0000.jpg  0.002247  0.002106  0.008411  0.004334  \n",
              "0001.jpg  0.033786  0.005795  0.008264  0.000691  \n",
              "0002.jpg  0.040053  0.004256  0.000033  0.000298  \n",
              "0003.jpg  0.017334  0.008754  0.001025  0.002635  \n",
              "0004.jpg  0.005767  0.003450  0.020189  0.326629  \n",
              "...            ...       ...       ...       ...  \n",
              "9995.jpg  0.001790  0.047691  0.481850  0.022592  \n",
              "9996.jpg  0.000141  0.000038  0.005366  0.011886  \n",
              "9997.jpg  0.000816  0.000177  0.002523  0.015201  \n",
              "9998.jpg  0.026666  0.049989  0.000330  0.000567  \n",
              "9999.jpg  0.000809  0.000427  0.547816  0.001234  \n",
              "\n",
              "[10000 rows x 10 columns]"
            ],
            "text/html": [
              "\n",
              "  <div id=\"df-ce1b2d3a-899a-4911-b391-1caa74e4765a\">\n",
              "    <div class=\"colab-df-container\">\n",
              "      <div>\n",
              "<style scoped>\n",
              "    .dataframe tbody tr th:only-of-type {\n",
              "        vertical-align: middle;\n",
              "    }\n",
              "\n",
              "    .dataframe tbody tr th {\n",
              "        vertical-align: top;\n",
              "    }\n",
              "\n",
              "    .dataframe thead th {\n",
              "        text-align: right;\n",
              "    }\n",
              "</style>\n",
              "<table border=\"1\" class=\"dataframe\">\n",
              "  <thead>\n",
              "    <tr style=\"text-align: right;\">\n",
              "      <th></th>\n",
              "      <th>0</th>\n",
              "      <th>1</th>\n",
              "      <th>2</th>\n",
              "      <th>3</th>\n",
              "      <th>4</th>\n",
              "      <th>5</th>\n",
              "      <th>6</th>\n",
              "      <th>7</th>\n",
              "      <th>8</th>\n",
              "      <th>9</th>\n",
              "    </tr>\n",
              "  </thead>\n",
              "  <tbody>\n",
              "    <tr>\n",
              "      <th>0000.jpg</th>\n",
              "      <td>0.567783</td>\n",
              "      <td>0.030058</td>\n",
              "      <td>0.024534</td>\n",
              "      <td>0.288866</td>\n",
              "      <td>0.030749</td>\n",
              "      <td>0.040912</td>\n",
              "      <td>0.002247</td>\n",
              "      <td>0.002106</td>\n",
              "      <td>0.008411</td>\n",
              "      <td>0.004334</td>\n",
              "    </tr>\n",
              "    <tr>\n",
              "      <th>0001.jpg</th>\n",
              "      <td>0.006919</td>\n",
              "      <td>0.000088</td>\n",
              "      <td>0.301789</td>\n",
              "      <td>0.059635</td>\n",
              "      <td>0.508114</td>\n",
              "      <td>0.074919</td>\n",
              "      <td>0.033786</td>\n",
              "      <td>0.005795</td>\n",
              "      <td>0.008264</td>\n",
              "      <td>0.000691</td>\n",
              "    </tr>\n",
              "    <tr>\n",
              "      <th>0002.jpg</th>\n",
              "      <td>0.000558</td>\n",
              "      <td>0.000058</td>\n",
              "      <td>0.000794</td>\n",
              "      <td>0.827720</td>\n",
              "      <td>0.018211</td>\n",
              "      <td>0.108021</td>\n",
              "      <td>0.040053</td>\n",
              "      <td>0.004256</td>\n",
              "      <td>0.000033</td>\n",
              "      <td>0.000298</td>\n",
              "    </tr>\n",
              "    <tr>\n",
              "      <th>0003.jpg</th>\n",
              "      <td>0.300947</td>\n",
              "      <td>0.011649</td>\n",
              "      <td>0.097755</td>\n",
              "      <td>0.317119</td>\n",
              "      <td>0.181971</td>\n",
              "      <td>0.060811</td>\n",
              "      <td>0.017334</td>\n",
              "      <td>0.008754</td>\n",
              "      <td>0.001025</td>\n",
              "      <td>0.002635</td>\n",
              "    </tr>\n",
              "    <tr>\n",
              "      <th>0004.jpg</th>\n",
              "      <td>0.001281</td>\n",
              "      <td>0.093503</td>\n",
              "      <td>0.003096</td>\n",
              "      <td>0.541092</td>\n",
              "      <td>0.003325</td>\n",
              "      <td>0.001667</td>\n",
              "      <td>0.005767</td>\n",
              "      <td>0.003450</td>\n",
              "      <td>0.020189</td>\n",
              "      <td>0.326629</td>\n",
              "    </tr>\n",
              "    <tr>\n",
              "      <th>...</th>\n",
              "      <td>...</td>\n",
              "      <td>...</td>\n",
              "      <td>...</td>\n",
              "      <td>...</td>\n",
              "      <td>...</td>\n",
              "      <td>...</td>\n",
              "      <td>...</td>\n",
              "      <td>...</td>\n",
              "      <td>...</td>\n",
              "      <td>...</td>\n",
              "    </tr>\n",
              "    <tr>\n",
              "      <th>9995.jpg</th>\n",
              "      <td>0.007706</td>\n",
              "      <td>0.000102</td>\n",
              "      <td>0.009481</td>\n",
              "      <td>0.105587</td>\n",
              "      <td>0.031172</td>\n",
              "      <td>0.292029</td>\n",
              "      <td>0.001790</td>\n",
              "      <td>0.047691</td>\n",
              "      <td>0.481850</td>\n",
              "      <td>0.022592</td>\n",
              "    </tr>\n",
              "    <tr>\n",
              "      <th>9996.jpg</th>\n",
              "      <td>0.138847</td>\n",
              "      <td>0.842912</td>\n",
              "      <td>0.000186</td>\n",
              "      <td>0.000272</td>\n",
              "      <td>0.000173</td>\n",
              "      <td>0.000179</td>\n",
              "      <td>0.000141</td>\n",
              "      <td>0.000038</td>\n",
              "      <td>0.005366</td>\n",
              "      <td>0.011886</td>\n",
              "    </tr>\n",
              "    <tr>\n",
              "      <th>9997.jpg</th>\n",
              "      <td>0.009696</td>\n",
              "      <td>0.964427</td>\n",
              "      <td>0.002755</td>\n",
              "      <td>0.002297</td>\n",
              "      <td>0.000281</td>\n",
              "      <td>0.001827</td>\n",
              "      <td>0.000816</td>\n",
              "      <td>0.000177</td>\n",
              "      <td>0.002523</td>\n",
              "      <td>0.015201</td>\n",
              "    </tr>\n",
              "    <tr>\n",
              "      <th>9998.jpg</th>\n",
              "      <td>0.001570</td>\n",
              "      <td>0.000142</td>\n",
              "      <td>0.062728</td>\n",
              "      <td>0.527038</td>\n",
              "      <td>0.096917</td>\n",
              "      <td>0.234054</td>\n",
              "      <td>0.026666</td>\n",
              "      <td>0.049989</td>\n",
              "      <td>0.000330</td>\n",
              "      <td>0.000567</td>\n",
              "    </tr>\n",
              "    <tr>\n",
              "      <th>9999.jpg</th>\n",
              "      <td>0.435254</td>\n",
              "      <td>0.002933</td>\n",
              "      <td>0.006166</td>\n",
              "      <td>0.001395</td>\n",
              "      <td>0.002118</td>\n",
              "      <td>0.001848</td>\n",
              "      <td>0.000809</td>\n",
              "      <td>0.000427</td>\n",
              "      <td>0.547816</td>\n",
              "      <td>0.001234</td>\n",
              "    </tr>\n",
              "  </tbody>\n",
              "</table>\n",
              "<p>10000 rows × 10 columns</p>\n",
              "</div>\n",
              "      <button class=\"colab-df-convert\" onclick=\"convertToInteractive('df-ce1b2d3a-899a-4911-b391-1caa74e4765a')\"\n",
              "              title=\"Convert this dataframe to an interactive table.\"\n",
              "              style=\"display:none;\">\n",
              "        \n",
              "  <svg xmlns=\"http://www.w3.org/2000/svg\" height=\"24px\"viewBox=\"0 0 24 24\"\n",
              "       width=\"24px\">\n",
              "    <path d=\"M0 0h24v24H0V0z\" fill=\"none\"/>\n",
              "    <path d=\"M18.56 5.44l.94 2.06.94-2.06 2.06-.94-2.06-.94-.94-2.06-.94 2.06-2.06.94zm-11 1L8.5 8.5l.94-2.06 2.06-.94-2.06-.94L8.5 2.5l-.94 2.06-2.06.94zm10 10l.94 2.06.94-2.06 2.06-.94-2.06-.94-.94-2.06-.94 2.06-2.06.94z\"/><path d=\"M17.41 7.96l-1.37-1.37c-.4-.4-.92-.59-1.43-.59-.52 0-1.04.2-1.43.59L10.3 9.45l-7.72 7.72c-.78.78-.78 2.05 0 2.83L4 21.41c.39.39.9.59 1.41.59.51 0 1.02-.2 1.41-.59l7.78-7.78 2.81-2.81c.8-.78.8-2.07 0-2.86zM5.41 20L4 18.59l7.72-7.72 1.47 1.35L5.41 20z\"/>\n",
              "  </svg>\n",
              "      </button>\n",
              "      \n",
              "  <style>\n",
              "    .colab-df-container {\n",
              "      display:flex;\n",
              "      flex-wrap:wrap;\n",
              "      gap: 12px;\n",
              "    }\n",
              "\n",
              "    .colab-df-convert {\n",
              "      background-color: #E8F0FE;\n",
              "      border: none;\n",
              "      border-radius: 50%;\n",
              "      cursor: pointer;\n",
              "      display: none;\n",
              "      fill: #1967D2;\n",
              "      height: 32px;\n",
              "      padding: 0 0 0 0;\n",
              "      width: 32px;\n",
              "    }\n",
              "\n",
              "    .colab-df-convert:hover {\n",
              "      background-color: #E2EBFA;\n",
              "      box-shadow: 0px 1px 2px rgba(60, 64, 67, 0.3), 0px 1px 3px 1px rgba(60, 64, 67, 0.15);\n",
              "      fill: #174EA6;\n",
              "    }\n",
              "\n",
              "    [theme=dark] .colab-df-convert {\n",
              "      background-color: #3B4455;\n",
              "      fill: #D2E3FC;\n",
              "    }\n",
              "\n",
              "    [theme=dark] .colab-df-convert:hover {\n",
              "      background-color: #434B5C;\n",
              "      box-shadow: 0px 1px 3px 1px rgba(0, 0, 0, 0.15);\n",
              "      filter: drop-shadow(0px 1px 2px rgba(0, 0, 0, 0.3));\n",
              "      fill: #FFFFFF;\n",
              "    }\n",
              "  </style>\n",
              "\n",
              "      <script>\n",
              "        const buttonEl =\n",
              "          document.querySelector('#df-ce1b2d3a-899a-4911-b391-1caa74e4765a button.colab-df-convert');\n",
              "        buttonEl.style.display =\n",
              "          google.colab.kernel.accessAllowed ? 'block' : 'none';\n",
              "\n",
              "        async function convertToInteractive(key) {\n",
              "          const element = document.querySelector('#df-ce1b2d3a-899a-4911-b391-1caa74e4765a');\n",
              "          const dataTable =\n",
              "            await google.colab.kernel.invokeFunction('convertToInteractive',\n",
              "                                                     [key], {});\n",
              "          if (!dataTable) return;\n",
              "\n",
              "          const docLinkHtml = 'Like what you see? Visit the ' +\n",
              "            '<a target=\"_blank\" href=https://colab.research.google.com/notebooks/data_table.ipynb>data table notebook</a>'\n",
              "            + ' to learn more about interactive tables.';\n",
              "          element.innerHTML = '';\n",
              "          dataTable['output_type'] = 'display_data';\n",
              "          await google.colab.output.renderOutput(dataTable, element);\n",
              "          const docLink = document.createElement('div');\n",
              "          docLink.innerHTML = docLinkHtml;\n",
              "          element.appendChild(docLink);\n",
              "        }\n",
              "      </script>\n",
              "    </div>\n",
              "  </div>\n",
              "  "
            ]
          },
          "metadata": {},
          "execution_count": 11
        }
      ]
    },
    {
      "cell_type": "code",
      "source": [],
      "metadata": {
        "id": "Y-f13za0zt5k"
      },
      "execution_count": null,
      "outputs": []
    }
  ],
  "metadata": {
    "colab": {
      "provenance": [],
      "include_colab_link": true
    },
    "kernelspec": {
      "display_name": "Python 3",
      "name": "python3"
    },
    "language_info": {
      "codemirror_mode": {
        "name": "ipython",
        "version": 3
      },
      "file_extension": ".py",
      "mimetype": "text/x-python",
      "name": "python",
      "nbconvert_exporter": "python",
      "pygments_lexer": "ipython3",
      "version": "3.9.16"
    },
    "accelerator": "GPU",
    "gpuClass": "standard"
  },
  "nbformat": 4,
  "nbformat_minor": 0
}