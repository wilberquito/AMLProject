{
  "cells": [
    {
      "cell_type": "markdown",
      "metadata": {
        "id": "view-in-github",
        "colab_type": "text"
      },
      "source": [
        "<a href=\"https://colab.research.google.com/github/wilberquito/AMLProject/blob/main/Ensemble.ipynb\" target=\"_parent\"><img src=\"https://colab.research.google.com/assets/colab-badge.svg\" alt=\"Open In Colab\"/></a>"
      ]
    },
    {
      "cell_type": "markdown",
      "metadata": {
        "id": "b9R-jL0O6K3R"
      },
      "source": [
        "# Deep Learning Project: Image Classification\n",
        "## Advanced Machine Learning\n",
        "\n",
        "\n",
        "> Wilber E. Bermeo Quito \n",
        ">\n",
        "> Judit Quintana Massana\n",
        ">\n",
        "> April 2023"
      ]
    },
    {
      "cell_type": "markdown",
      "source": [
        "## Inference for valid and test sets"
      ],
      "metadata": {
        "id": "_qUKlD3kqDaY"
      }
    },
    {
      "cell_type": "code",
      "source": [
        "import zipfile\n",
        "from pathlib import Path\n",
        "import torch\n",
        "import matplotlib.pyplot as plt"
      ],
      "metadata": {
        "id": "aMRrlQwQjqBu"
      },
      "execution_count": 2,
      "outputs": []
    },
    {
      "cell_type": "code",
      "source": [
        "try:\n",
        "    import google.colab\n",
        "    IN_COLAB = True\n",
        "    ! pip install torchvision\n",
        "    ! pip install torchinfo\n",
        "    \n",
        "    from google.colab import drive\n",
        "    drive.mount('/content/drive')\n",
        "\n",
        "    !rm -rf data\n",
        "    data_path = Path('/content/drive/MyDrive/AML/dataset_CIFAR10.zip')\n",
        "    with zipfile.ZipFile(data_path,\"r\") as zip_ref:\n",
        "        zip_ref.extractall(\"data\")\n",
        "\n",
        "    !rm -rf test\n",
        "    data_path = Path('/content/drive/MyDrive/AML/test_unlabelled.zip')\n",
        "    with zipfile.ZipFile(data_path,\"r\") as zip_ref:\n",
        "        zip_ref.extractall(\"test\")\n",
        "\n",
        "    !rm -rf modular\n",
        "    data_path = Path('/content/drive/MyDrive/AML/modular.zip')\n",
        "    with zipfile.ZipFile(data_path,\"r\") as zip_ref:\n",
        "        zip_ref.extractall(\".\")\n",
        "\n",
        "    # Getting the trained models\n",
        "    !rm -rf trained\n",
        "    !cp -rf /content/drive/MyDrive/AML/trained ./trained\n",
        "\n",
        "    # Getting the predictions\n",
        "    !rm -rf ensemble\n",
        "    !cp -rf /content/drive/MyDrive/AML/ensemble ./ensemble\n",
        "except:\n",
        "    IN_COLAB = False"
      ],
      "metadata": {
        "colab": {
          "base_uri": "https://localhost:8080/"
        },
        "id": "tVf-IA6rjryO",
        "outputId": "195fc2b9-6f5e-41a0-c5f0-388904f7c870"
      },
      "execution_count": 3,
      "outputs": [
        {
          "output_type": "stream",
          "name": "stdout",
          "text": [
            "Looking in indexes: https://pypi.org/simple, https://us-python.pkg.dev/colab-wheels/public/simple/\n",
            "Requirement already satisfied: torchvision in /usr/local/lib/python3.9/dist-packages (0.15.1+cu118)\n",
            "Requirement already satisfied: torch==2.0.0 in /usr/local/lib/python3.9/dist-packages (from torchvision) (2.0.0+cu118)\n",
            "Requirement already satisfied: pillow!=8.3.*,>=5.3.0 in /usr/local/lib/python3.9/dist-packages (from torchvision) (8.4.0)\n",
            "Requirement already satisfied: numpy in /usr/local/lib/python3.9/dist-packages (from torchvision) (1.22.4)\n",
            "Requirement already satisfied: requests in /usr/local/lib/python3.9/dist-packages (from torchvision) (2.27.1)\n",
            "Requirement already satisfied: triton==2.0.0 in /usr/local/lib/python3.9/dist-packages (from torch==2.0.0->torchvision) (2.0.0)\n",
            "Requirement already satisfied: filelock in /usr/local/lib/python3.9/dist-packages (from torch==2.0.0->torchvision) (3.11.0)\n",
            "Requirement already satisfied: sympy in /usr/local/lib/python3.9/dist-packages (from torch==2.0.0->torchvision) (1.11.1)\n",
            "Requirement already satisfied: jinja2 in /usr/local/lib/python3.9/dist-packages (from torch==2.0.0->torchvision) (3.1.2)\n",
            "Requirement already satisfied: networkx in /usr/local/lib/python3.9/dist-packages (from torch==2.0.0->torchvision) (3.1)\n",
            "Requirement already satisfied: typing-extensions in /usr/local/lib/python3.9/dist-packages (from torch==2.0.0->torchvision) (4.5.0)\n",
            "Requirement already satisfied: cmake in /usr/local/lib/python3.9/dist-packages (from triton==2.0.0->torch==2.0.0->torchvision) (3.25.2)\n",
            "Requirement already satisfied: lit in /usr/local/lib/python3.9/dist-packages (from triton==2.0.0->torch==2.0.0->torchvision) (16.0.1)\n",
            "Requirement already satisfied: charset-normalizer~=2.0.0 in /usr/local/lib/python3.9/dist-packages (from requests->torchvision) (2.0.12)\n",
            "Requirement already satisfied: idna<4,>=2.5 in /usr/local/lib/python3.9/dist-packages (from requests->torchvision) (3.4)\n",
            "Requirement already satisfied: urllib3<1.27,>=1.21.1 in /usr/local/lib/python3.9/dist-packages (from requests->torchvision) (1.26.15)\n",
            "Requirement already satisfied: certifi>=2017.4.17 in /usr/local/lib/python3.9/dist-packages (from requests->torchvision) (2022.12.7)\n",
            "Requirement already satisfied: MarkupSafe>=2.0 in /usr/local/lib/python3.9/dist-packages (from jinja2->torch==2.0.0->torchvision) (2.1.2)\n",
            "Requirement already satisfied: mpmath>=0.19 in /usr/local/lib/python3.9/dist-packages (from sympy->torch==2.0.0->torchvision) (1.3.0)\n",
            "Looking in indexes: https://pypi.org/simple, https://us-python.pkg.dev/colab-wheels/public/simple/\n",
            "Collecting torchinfo\n",
            "  Downloading torchinfo-1.7.2-py3-none-any.whl (22 kB)\n",
            "Installing collected packages: torchinfo\n",
            "Successfully installed torchinfo-1.7.2\n",
            "Mounted at /content/drive\n"
          ]
        }
      ]
    },
    {
      "cell_type": "code",
      "source": [
        "from modular.evaluate import val_step\n",
        "import modular.models as models\n",
        "from modular.datasets import TestDataset\n",
        "import modular.datasets as datasets\n",
        "import torch\n",
        "from torchvision.datasets import ImageFolder\n",
        "from torchvision.transforms import ToTensor\n",
        "from torch.utils.data import DataLoader\n",
        "from modular.utils import set_seeds\n",
        "import pandas as pd\n",
        "import torchvision.transforms as transforms\n",
        "\n",
        "\n",
        "set_seeds(seed=42)\n",
        "\n",
        "data_path = \"./test/test_unlabelled\"\n",
        "out_dim = 10\n",
        "n_test = 4\n",
        "device = 'cuda' if torch.cuda.is_available() else 'cpu'\n",
        "\n",
        "models = {\n",
        "    Path('./trained/AMLMAXVIT_T.pth'): models.AMLMAXVIT_T(out_dim),\n",
        "    Path('./trained/amlresnet50.pth'): models.AMLResnet50(out_dim),\n",
        "    Path('./trained/exotic.amlresnet50.pth'): models.AMLResnet50(out_dim),\n",
        "    Path('./trained/AMLResnet50_FastAI.pth'): models.AMLResnet50_FastAI(out_dim),\n",
        "    Path('./trained/amlresnet101.pth'): models.AMLResnet101(out_dim),\n",
        "    Path('./trained/efficientnet_v2_s.pth'): models.AMLEfficientNet_V2_S(out_dim),\n",
        "}\n",
        "\n",
        "evals = [('validation', './data/validation'), \n",
        "         ('test', './test/test_unlabelled')]\n",
        "\n",
        "def dataloader_builder(eval_type, folder_root, transform=None):\n",
        "  if eval_type == 'test':\n",
        "    dataset = TestDataset(folder_root, transform)\n",
        "    dataloader = DataLoader(dataset, batch_size=256, shuffle=False)\n",
        "    names = dataloader.dataset.file_names\n",
        "  else:\n",
        "    dataloader = datasets.get_dataloader(folder_root=folder_root,\n",
        "                                           transformer=transform,\n",
        "                                           batch_size=256,\n",
        "                                           suffle=False)\n",
        "    names = list(map(lambda x : '/'.join(x[0].split('/')[-2:]), dataloader.dataset.imgs))\n",
        "\n",
        "  return dataloader, names\n",
        "\n",
        "  \n",
        "# Validation dataset & dataloader\n",
        "for eval, src in evals:\n",
        "\n",
        "  print('Evaluate step - ' + eval)\n",
        "\n",
        "  for p, m in models.items():\n",
        "  \n",
        "    # Check if prediction is already done\n",
        "    predict_name = Path(f'./ensemble/{eval}/') / Path(p.name.replace('.pth', '.csv'))\n",
        "  \n",
        "    if predict_name.exists():\n",
        "      print(f'Skipping prediction - {p.name}')\n",
        "      continue\n",
        "  \n",
        "    print(f'Evaluating - {p.name}')\n",
        "    # Make prediction\n",
        "    data = torch.load(p, map_location=device)\n",
        "    m.load_state_dict(data['model'])\n",
        "    m = m.to(device)\n",
        "    transform = m.transforms\n",
        "    dataloader, names = dataloader_builder(eval, src, transform)\n",
        "    _, probs, labels = val_step(m, dataloader, \n",
        "                                      device, out_dim, n_test)\n",
        "    \n",
        "    # Serialize prediction to csv\n",
        "    save_as = eval + '.' + p.name.replace('.pth', '.csv')\n",
        "    df = pd.DataFrame(probs)\n",
        "    df.index = names\n",
        "    df.to_csv(save_as)\n",
        "  \n",
        "    # Download prediction \n",
        "    if IN_COLAB:\n",
        "      from google.colab import files\n",
        "      files.download(save_as)"
      ],
      "metadata": {
        "colab": {
          "base_uri": "https://localhost:8080/",
          "height": 559
        },
        "id": "EnBZjuUfjwqW",
        "outputId": "3bc98265-e799-421d-fb48-e5c5fbf9a3e2"
      },
      "execution_count": 3,
      "outputs": [
        {
          "output_type": "stream",
          "name": "stderr",
          "text": [
            "/usr/local/lib/python3.9/dist-packages/torchvision/models/_utils.py:223: UserWarning: Arguments other than a weight enum or `None` for 'weights' are deprecated since 0.13 and may be removed in the future. The current behavior is equivalent to passing `weights=MaxVit_T_Weights.IMAGENET1K_V1`. You can also use `weights=MaxVit_T_Weights.DEFAULT` to get the most up-to-date weights.\n",
            "  warnings.warn(msg)\n",
            "/usr/local/lib/python3.9/dist-packages/torch/functional.py:504: UserWarning: torch.meshgrid: in an upcoming release, it will be required to pass the indexing argument. (Triggered internally at ../aten/src/ATen/native/TensorShape.cpp:3483.)\n",
            "  return _VF.meshgrid(tensors, **kwargs)  # type: ignore[attr-defined]\n",
            "Downloading: \"https://download.pytorch.org/models/maxvit_t-bc5ab103.pth\" to /root/.cache/torch/hub/checkpoints/maxvit_t-bc5ab103.pth\n",
            "100%|██████████| 119M/119M [00:01<00:00, 90.1MB/s]\n",
            "Downloading: \"https://download.pytorch.org/models/resnet50-11ad3fa6.pth\" to /root/.cache/torch/hub/checkpoints/resnet50-11ad3fa6.pth\n",
            "100%|██████████| 97.8M/97.8M [00:01<00:00, 89.9MB/s]\n",
            "Downloading: \"https://download.pytorch.org/models/resnet101-cd907fc2.pth\" to /root/.cache/torch/hub/checkpoints/resnet101-cd907fc2.pth\n",
            "100%|██████████| 171M/171M [00:01<00:00, 91.5MB/s]\n",
            "/usr/local/lib/python3.9/dist-packages/torchvision/models/_utils.py:223: UserWarning: Arguments other than a weight enum or `None` for 'weights' are deprecated since 0.13 and may be removed in the future. The current behavior is equivalent to passing `weights=EfficientNet_V2_S_Weights.IMAGENET1K_V1`. You can also use `weights=EfficientNet_V2_S_Weights.DEFAULT` to get the most up-to-date weights.\n",
            "  warnings.warn(msg)\n",
            "Downloading: \"https://download.pytorch.org/models/efficientnet_v2_s-dd5fe13b.pth\" to /root/.cache/torch/hub/checkpoints/efficientnet_v2_s-dd5fe13b.pth\n",
            "100%|██████████| 82.7M/82.7M [00:00<00:00, 90.1MB/s]\n"
          ]
        },
        {
          "output_type": "stream",
          "name": "stdout",
          "text": [
            "Evaluate step - validation\n",
            "Skipping prediction - AMLMAXVIT_T.pth\n",
            "Skipping prediction - amlresnet50.pth\n",
            "Skipping prediction - exotic.amlresnet50.pth\n",
            "Skipping prediction - AMLResnet50_FastAI.pth\n",
            "Skipping prediction - amlresnet101.pth\n",
            "Skipping prediction - efficientnet_v2_s.pth\n",
            "Evaluate step - test\n",
            "Skipping prediction - AMLMAXVIT_T.pth\n",
            "Evaluating - amlresnet50.pth\n"
          ]
        },
        {
          "output_type": "stream",
          "name": "stderr",
          "text": [
            "100%|██████████| 40/40 [02:13<00:00,  3.35s/it]\n"
          ]
        },
        {
          "output_type": "display_data",
          "data": {
            "text/plain": [
              "<IPython.core.display.Javascript object>"
            ],
            "application/javascript": [
              "\n",
              "    async function download(id, filename, size) {\n",
              "      if (!google.colab.kernel.accessAllowed) {\n",
              "        return;\n",
              "      }\n",
              "      const div = document.createElement('div');\n",
              "      const label = document.createElement('label');\n",
              "      label.textContent = `Downloading \"${filename}\": `;\n",
              "      div.appendChild(label);\n",
              "      const progress = document.createElement('progress');\n",
              "      progress.max = size;\n",
              "      div.appendChild(progress);\n",
              "      document.body.appendChild(div);\n",
              "\n",
              "      const buffers = [];\n",
              "      let downloaded = 0;\n",
              "\n",
              "      const channel = await google.colab.kernel.comms.open(id);\n",
              "      // Send a message to notify the kernel that we're ready.\n",
              "      channel.send({})\n",
              "\n",
              "      for await (const message of channel.messages) {\n",
              "        // Send a message to notify the kernel that we're ready.\n",
              "        channel.send({})\n",
              "        if (message.buffers) {\n",
              "          for (const buffer of message.buffers) {\n",
              "            buffers.push(buffer);\n",
              "            downloaded += buffer.byteLength;\n",
              "            progress.value = downloaded;\n",
              "          }\n",
              "        }\n",
              "      }\n",
              "      const blob = new Blob(buffers, {type: 'application/binary'});\n",
              "      const a = document.createElement('a');\n",
              "      a.href = window.URL.createObjectURL(blob);\n",
              "      a.download = filename;\n",
              "      div.appendChild(a);\n",
              "      a.click();\n",
              "      div.remove();\n",
              "    }\n",
              "  "
            ]
          },
          "metadata": {}
        },
        {
          "output_type": "display_data",
          "data": {
            "text/plain": [
              "<IPython.core.display.Javascript object>"
            ],
            "application/javascript": [
              "download(\"download_b1618579-b6d9-4aef-a2e5-fd21dc57802b\", \"test.amlresnet50.csv\", 1317656)"
            ]
          },
          "metadata": {}
        },
        {
          "output_type": "stream",
          "name": "stdout",
          "text": [
            "Skipping prediction - exotic.amlresnet50.pth\n",
            "Skipping prediction - AMLResnet50_FastAI.pth\n",
            "Skipping prediction - amlresnet101.pth\n",
            "Skipping prediction - efficientnet_v2_s.pth\n"
          ]
        }
      ]
    },
    {
      "cell_type": "markdown",
      "source": [
        "## Ensemble (validation)"
      ],
      "metadata": {
        "id": "Awb3urKRqIng"
      }
    },
    {
      "cell_type": "markdown",
      "source": [
        "The accuracy of the ensemble may change deppending on the differente models we use."
      ],
      "metadata": {
        "id": "MWssczbUIoBY"
      }
    },
    {
      "cell_type": "code",
      "source": [
        "from modular.ensemble import ensemble\n",
        "ensemble_csv_name = 'val.ensemble.csv'\n",
        "parent_dir = './ensemble/validation'\n",
        "\n",
        "ensemble(parent_dir, ensemble_csv_name, with_probs=True)"
      ],
      "metadata": {
        "id": "j5EMP8kujnWu"
      },
      "execution_count": 4,
      "outputs": []
    },
    {
      "cell_type": "code",
      "source": [
        "import torch\n",
        "import modular.datasets as datasets\n",
        "\n",
        "dataloader = datasets.get_dataloader(folder_root='./data/validation',\n",
        "                                     transformer=torchvision.transforms.ToTensor(),\n",
        "                                     batch_size=256,\n",
        "                                     suffle=False)"
      ],
      "metadata": {
        "id": "vjAIaxgX7ikA"
      },
      "execution_count": 7,
      "outputs": []
    },
    {
      "cell_type": "code",
      "source": [
        "from modular.utils import accuracy_fn\n",
        "import pandas as pd\n",
        "\n",
        "# Compute the labels of the validation set\n",
        "labels = torch.tensor([])\n",
        "for _, y in dataloader:\n",
        "  labels = torch.cat([labels, y], dim=0)\n",
        "\n",
        "# Load the labels of the ensemble\n",
        "val_csv = pd.read_csv('./val.ensemble.csv')\n",
        "val_labels = val_csv['class']\n",
        "val_labels = val_labels.values\n",
        "val_labels = torch.tensor(val_labels)\n",
        "\n",
        "# Calculate the accuracy\n",
        "accuracy_fn(labels, val_labels)"
      ],
      "metadata": {
        "id": "DEe2asrQBZDE",
        "outputId": "7643b774-e34b-457f-be76-16cf5b282ca0",
        "colab": {
          "base_uri": "https://localhost:8080/"
        }
      },
      "execution_count": 9,
      "outputs": [
        {
          "output_type": "execute_result",
          "data": {
            "text/plain": [
              "86.22"
            ]
          },
          "metadata": {},
          "execution_count": 9
        }
      ]
    },
    {
      "cell_type": "markdown",
      "source": [
        "## Ensemble (test)"
      ],
      "metadata": {
        "id": "3-m7b-IJIzmU"
      }
    },
    {
      "cell_type": "code",
      "source": [
        "from modular.ensemble import ensemble\n",
        "ensemble_csv_name = 'test.ensemble.csv'\n",
        "parent_dir = './ensemble/test'\n",
        "\n",
        "ensemble(parent_dir, ensemble_csv_name, with_probs=True)"
      ],
      "metadata": {
        "id": "pPFyfkWaIzJU"
      },
      "execution_count": 10,
      "outputs": []
    }
  ],
  "metadata": {
    "colab": {
      "provenance": [],
      "include_colab_link": true
    },
    "kernelspec": {
      "display_name": "Python 3",
      "name": "python3"
    },
    "language_info": {
      "codemirror_mode": {
        "name": "ipython",
        "version": 3
      },
      "file_extension": ".py",
      "mimetype": "text/x-python",
      "name": "python",
      "nbconvert_exporter": "python",
      "pygments_lexer": "ipython3",
      "version": "3.9.16"
    },
    "accelerator": "GPU",
    "gpuClass": "standard"
  },
  "nbformat": 4,
  "nbformat_minor": 0
}