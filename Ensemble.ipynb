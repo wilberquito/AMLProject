{
  "cells": [
    {
      "cell_type": "markdown",
      "metadata": {
        "id": "view-in-github",
        "colab_type": "text"
      },
      "source": [
        "<a href=\"https://colab.research.google.com/github/wilberquito/AMLProject/blob/main/Ensemble.ipynb\" target=\"_parent\"><img src=\"https://colab.research.google.com/assets/colab-badge.svg\" alt=\"Open In Colab\"/></a>"
      ]
    },
    {
      "cell_type": "markdown",
      "metadata": {
        "id": "b9R-jL0O6K3R"
      },
      "source": [
        "# Deep Learning Project: Image Classification\n",
        "## Advanced Machine Learning\n",
        "\n",
        "\n",
        "> Wilber E. Bermeo Quito \n",
        ">\n",
        "> Judit Quintana Massana\n",
        ">\n",
        "> April 2023"
      ]
    },
    {
      "cell_type": "markdown",
      "source": [
        "## Make prediction per each model"
      ],
      "metadata": {
        "id": "_qUKlD3kqDaY"
      }
    },
    {
      "cell_type": "code",
      "source": [
        "import zipfile\n",
        "from pathlib import Path\n",
        "import torch\n",
        "import matplotlib.pyplot as plt"
      ],
      "metadata": {
        "id": "aMRrlQwQjqBu"
      },
      "execution_count": 1,
      "outputs": []
    },
    {
      "cell_type": "code",
      "source": [
        "try:\n",
        "    import google.colab\n",
        "    IN_COLAB = True\n",
        "    ! pip install torchvision\n",
        "    ! pip install torchinfo\n",
        "    \n",
        "    from google.colab import drive\n",
        "    drive.mount('/content/drive')\n",
        "\n",
        "    !rm -rf data\n",
        "    data_path = Path('/content/drive/MyDrive/AML/dataset_CIFAR10.zip')\n",
        "    with zipfile.ZipFile(data_path,\"r\") as zip_ref:\n",
        "        zip_ref.extractall(\"data\")\n",
        "\n",
        "    !rm -rf test\n",
        "    data_path = Path('/content/drive/MyDrive/AML/test_unlabelled.zip')\n",
        "    with zipfile.ZipFile(data_path,\"r\") as zip_ref:\n",
        "        zip_ref.extractall(\"test\")\n",
        "\n",
        "    !rm -rf modular\n",
        "    data_path = Path('/content/drive/MyDrive/AML/modular.zip')\n",
        "    with zipfile.ZipFile(data_path,\"r\") as zip_ref:\n",
        "        zip_ref.extractall(\".\")\n",
        "\n",
        "    # Getting the trained models\n",
        "    !rm -rf trained\n",
        "    !cp -rf /content/drive/MyDrive/AML/trained ./trained\n",
        "\n",
        "    # Getting the predictions\n",
        "    !rm -rf ensemble\n",
        "    !cp -rf /content/drive/MyDrive/AML/ensemble ./ensemble\n",
        "except:\n",
        "    IN_COLAB = False"
      ],
      "metadata": {
        "colab": {
          "base_uri": "https://localhost:8080/"
        },
        "id": "tVf-IA6rjryO",
        "outputId": "a50690d3-4a0f-41b7-b4d6-59445f348c80"
      },
      "execution_count": 3,
      "outputs": [
        {
          "output_type": "stream",
          "name": "stdout",
          "text": [
            "Looking in indexes: https://pypi.org/simple, https://us-python.pkg.dev/colab-wheels/public/simple/\n",
            "Requirement already satisfied: torchvision in /usr/local/lib/python3.9/dist-packages (0.15.1+cu118)\n",
            "Requirement already satisfied: numpy in /usr/local/lib/python3.9/dist-packages (from torchvision) (1.22.4)\n",
            "Requirement already satisfied: torch==2.0.0 in /usr/local/lib/python3.9/dist-packages (from torchvision) (2.0.0+cu118)\n",
            "Requirement already satisfied: pillow!=8.3.*,>=5.3.0 in /usr/local/lib/python3.9/dist-packages (from torchvision) (8.4.0)\n",
            "Requirement already satisfied: requests in /usr/local/lib/python3.9/dist-packages (from torchvision) (2.27.1)\n",
            "Requirement already satisfied: jinja2 in /usr/local/lib/python3.9/dist-packages (from torch==2.0.0->torchvision) (3.1.2)\n",
            "Requirement already satisfied: filelock in /usr/local/lib/python3.9/dist-packages (from torch==2.0.0->torchvision) (3.10.7)\n",
            "Requirement already satisfied: sympy in /usr/local/lib/python3.9/dist-packages (from torch==2.0.0->torchvision) (1.11.1)\n",
            "Requirement already satisfied: networkx in /usr/local/lib/python3.9/dist-packages (from torch==2.0.0->torchvision) (3.0)\n",
            "Requirement already satisfied: triton==2.0.0 in /usr/local/lib/python3.9/dist-packages (from torch==2.0.0->torchvision) (2.0.0)\n",
            "Requirement already satisfied: typing-extensions in /usr/local/lib/python3.9/dist-packages (from torch==2.0.0->torchvision) (4.5.0)\n",
            "Requirement already satisfied: lit in /usr/local/lib/python3.9/dist-packages (from triton==2.0.0->torch==2.0.0->torchvision) (16.0.0)\n",
            "Requirement already satisfied: cmake in /usr/local/lib/python3.9/dist-packages (from triton==2.0.0->torch==2.0.0->torchvision) (3.25.2)\n",
            "Requirement already satisfied: urllib3<1.27,>=1.21.1 in /usr/local/lib/python3.9/dist-packages (from requests->torchvision) (1.26.15)\n",
            "Requirement already satisfied: certifi>=2017.4.17 in /usr/local/lib/python3.9/dist-packages (from requests->torchvision) (2022.12.7)\n",
            "Requirement already satisfied: idna<4,>=2.5 in /usr/local/lib/python3.9/dist-packages (from requests->torchvision) (3.4)\n",
            "Requirement already satisfied: charset-normalizer~=2.0.0 in /usr/local/lib/python3.9/dist-packages (from requests->torchvision) (2.0.12)\n",
            "Requirement already satisfied: MarkupSafe>=2.0 in /usr/local/lib/python3.9/dist-packages (from jinja2->torch==2.0.0->torchvision) (2.1.2)\n",
            "Requirement already satisfied: mpmath>=0.19 in /usr/local/lib/python3.9/dist-packages (from sympy->torch==2.0.0->torchvision) (1.3.0)\n",
            "Looking in indexes: https://pypi.org/simple, https://us-python.pkg.dev/colab-wheels/public/simple/\n",
            "Requirement already satisfied: torchinfo in /usr/local/lib/python3.9/dist-packages (1.7.2)\n",
            "Drive already mounted at /content/drive; to attempt to forcibly remount, call drive.mount(\"/content/drive\", force_remount=True).\n"
          ]
        }
      ]
    },
    {
      "cell_type": "code",
      "source": [
        "from modular.evaluate import val_step\n",
        "import modular.models as models\n",
        "from modular.datasets import TestDataset\n",
        "import modular.datasets as datasets\n",
        "import torch\n",
        "from torchvision.datasets import ImageFolder\n",
        "from torchvision.transforms import ToTensor\n",
        "from torch.utils.data import DataLoader\n",
        "from modular.utils import set_seeds\n",
        "import pandas as pd\n",
        "import torchvision.transforms as transforms\n",
        "\n",
        "\n",
        "set_seeds(seed=42)\n",
        "\n",
        "data_path = \"./test/test_unlabelled\"\n",
        "out_dim = 10\n",
        "n_test = 4\n",
        "device = 'cuda' if torch.cuda.is_available() else 'cpu'\n",
        "\n",
        "models = {\n",
        "    Path('./trained/efficientnet_v2_s.pth'): models.AMLEfficientNet_V2_S(out_dim),\n",
        "    Path('./trained/AMLMAXVIT_T.pth'): models.AMLMAXVIT_T(out_dim),\n",
        "    Path('./trained/amlresnet101.pth'): models.AMLResnet101(out_dim),\n",
        "    Path('./trained/AMLResnet_50W.pth'): models.AMLResnet_50W(out_dim) # THIS IS A ResNext50.\n",
        "}\n",
        "\n",
        "evals = [('validation', './data/validation'), \n",
        "         ('test', './test/test_unlabelled')]\n",
        "\n",
        "def dataloader_builder(eval_type, folder_root, transform=None):\n",
        "  if eval_type == 'test':\n",
        "    dataset = TestDataset(folder_root, transform)\n",
        "    dataloader = DataLoader(dataset, batch_size=256, shuffle=False)\n",
        "    names = dataloader.dataset.file_names\n",
        "    print(transform)\n",
        "  else:\n",
        "    dataloader = datasets.get_dataloader(folder_root=folder_root,\n",
        "                                           transformer=transform,\n",
        "                                           batch_size=256,\n",
        "                                           suffle=False)\n",
        "    names = list(map(lambda x : '/'.join(x[0].split('/')[-2:]), dataloader.dataset.imgs))\n",
        "\n",
        "  return dataloader, names\n",
        "\n",
        "  \n",
        "# Validation dataset & dataloader\n",
        "for eval, src in evals:\n",
        "\n",
        "  print('Evaluate step - ' + eval)\n",
        "\n",
        "  for p, m in models.items():\n",
        "  \n",
        "    # Check if prediction is already done\n",
        "    predict_name = Path(f'./ensemble/{eval}/') / Path(p.name.replace('.pth', '.csv'))\n",
        "  \n",
        "    if predict_name.exists():\n",
        "      print(f'Skipping prediction - {p.name}')\n",
        "      continue\n",
        "  \n",
        "    print(f'Evaluating - {p.name}')\n",
        "    # Make prediction\n",
        "    data = torch.load(p, map_location=device)\n",
        "    m.load_state_dict(data['model'])\n",
        "    m = m.to(device)\n",
        "    transform = m.transforms\n",
        "    dataloader, names = dataloader_builder(eval, src, transform)\n",
        "    _, probs, labels = val_step(m, dataloader, \n",
        "                                      device, out_dim, n_test)\n",
        "    \n",
        "    # Serialize prediction to csv\n",
        "    save_as = eval + '.' + p.name.replace('.pth', '.csv')\n",
        "    df = pd.DataFrame(probs)\n",
        "    df.index = names\n",
        "    df.to_csv(save_as)\n",
        "  \n",
        "    # Download prediction \n",
        "    if IN_COLAB:\n",
        "      from google.colab import files\n",
        "      files.download(save_as)"
      ],
      "metadata": {
        "colab": {
          "base_uri": "https://localhost:8080/"
        },
        "id": "EnBZjuUfjwqW",
        "outputId": "314ad4ff-00df-48fd-84d1-74bee5cf46c1"
      },
      "execution_count": null,
      "outputs": [
        {
          "output_type": "stream",
          "name": "stderr",
          "text": [
            "/usr/local/lib/python3.9/dist-packages/torchvision/models/_utils.py:223: UserWarning: Arguments other than a weight enum or `None` for 'weights' are deprecated since 0.13 and may be removed in the future. The current behavior is equivalent to passing `weights=EfficientNet_V2_S_Weights.IMAGENET1K_V1`. You can also use `weights=EfficientNet_V2_S_Weights.DEFAULT` to get the most up-to-date weights.\n",
            "  warnings.warn(msg)\n",
            "/usr/local/lib/python3.9/dist-packages/torchvision/models/_utils.py:223: UserWarning: Arguments other than a weight enum or `None` for 'weights' are deprecated since 0.13 and may be removed in the future. The current behavior is equivalent to passing `weights=MaxVit_T_Weights.IMAGENET1K_V1`. You can also use `weights=MaxVit_T_Weights.DEFAULT` to get the most up-to-date weights.\n",
            "  warnings.warn(msg)\n",
            "/usr/local/lib/python3.9/dist-packages/torch/functional.py:504: UserWarning: torch.meshgrid: in an upcoming release, it will be required to pass the indexing argument. (Triggered internally at ../aten/src/ATen/native/TensorShape.cpp:3483.)\n",
            "  return _VF.meshgrid(tensors, **kwargs)  # type: ignore[attr-defined]\n",
            "/usr/local/lib/python3.9/dist-packages/torchvision/models/_utils.py:223: UserWarning: Arguments other than a weight enum or `None` for 'weights' are deprecated since 0.13 and may be removed in the future. The current behavior is equivalent to passing `weights=ResNeXt50_32X4D_Weights.IMAGENET1K_V1`. You can also use `weights=ResNeXt50_32X4D_Weights.DEFAULT` to get the most up-to-date weights.\n",
            "  warnings.warn(msg)\n"
          ]
        },
        {
          "output_type": "stream",
          "name": "stdout",
          "text": [
            "Evaluate step - validation\n",
            "Skipping prediction - efficientnet_v2_s.pth\n",
            "Evaluating - AMLMAXVIT_T.pth\n"
          ]
        },
        {
          "output_type": "stream",
          "name": "stderr",
          "text": [
            " 18%|█▊        | 7/40 [01:00<04:23,  7.98s/it]"
          ]
        }
      ]
    },
    {
      "cell_type": "markdown",
      "source": [
        "## Make the ensemble"
      ],
      "metadata": {
        "id": "Awb3urKRqIng"
      }
    },
    {
      "cell_type": "code",
      "source": [
        "from modular.ensemble import ensemble\n",
        "ensemble_csv_name = 'ensemble.csv'\n",
        "parent_dir = './predictions'\n",
        "\n",
        "ensemble(parent_dir, ensemble_csv_name, with_probs=True)"
      ],
      "metadata": {
        "id": "j5EMP8kujnWu"
      },
      "execution_count": 4,
      "outputs": []
    },
    {
      "cell_type": "markdown",
      "source": [
        "## Test ensemble accuracy"
      ],
      "metadata": {
        "id": "RbGyPniTp_qQ"
      }
    },
    {
      "cell_type": "code",
      "source": [],
      "metadata": {
        "id": "7DtVD2bzqBUA"
      },
      "execution_count": null,
      "outputs": []
    }
  ],
  "metadata": {
    "colab": {
      "provenance": [],
      "include_colab_link": true
    },
    "kernelspec": {
      "display_name": "Python 3",
      "name": "python3"
    },
    "language_info": {
      "codemirror_mode": {
        "name": "ipython",
        "version": 3
      },
      "file_extension": ".py",
      "mimetype": "text/x-python",
      "name": "python",
      "nbconvert_exporter": "python",
      "pygments_lexer": "ipython3",
      "version": "3.9.16"
    },
    "accelerator": "GPU",
    "gpuClass": "standard"
  },
  "nbformat": 4,
  "nbformat_minor": 0
}