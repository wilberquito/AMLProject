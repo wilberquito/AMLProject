{
  "nbformat": 4,
  "nbformat_minor": 0,
  "metadata": {
    "colab": {
      "provenance": [],
      "authorship_tag": "ABX9TyMfZ4CA9qOEE5KITgzwSiNX",
      "include_colab_link": true
    },
    "kernelspec": {
      "name": "python3",
      "display_name": "Python 3"
    },
    "language_info": {
      "name": "python"
    }
  },
  "cells": [
    {
      "cell_type": "markdown",
      "metadata": {
        "id": "view-in-github",
        "colab_type": "text"
      },
      "source": [
        "<a href=\"https://colab.research.google.com/github/wilberquito/AMLProject/blob/main/AMLProject.ipynb\" target=\"_parent\"><img src=\"https://colab.research.google.com/assets/colab-badge.svg\" alt=\"Open In Colab\"/></a>"
      ]
    },
    {
      "cell_type": "code",
      "source": [
        "import zipfile\n",
        "import torch\n",
        "from pathlib import Path"
      ],
      "metadata": {
        "id": "KMcEpo_gzKod"
      },
      "execution_count": 8,
      "outputs": []
    },
    {
      "cell_type": "code",
      "execution_count": 4,
      "metadata": {
        "id": "8nW6JiaWuzdU",
        "colab": {
          "base_uri": "https://localhost:8080/"
        },
        "outputId": "169c6396-ef04-4227-df7b-02baf4317255"
      },
      "outputs": [
        {
          "output_type": "stream",
          "name": "stdout",
          "text": [
            "Drive already mounted at /content/drive; to attempt to forcibly remount, call drive.mount(\"/content/drive\", force_remount=True).\n"
          ]
        }
      ],
      "source": [
        "from google.colab import drive\n",
        "drive.mount('/content/drive')"
      ]
    },
    {
      "cell_type": "code",
      "source": [
        "!ls /content/drive/MyDrive/AML"
      ],
      "metadata": {
        "colab": {
          "base_uri": "https://localhost:8080/"
        },
        "id": "yAHEUMjey2-A",
        "outputId": "1488a171-78e0-4ef1-f3c0-1f63a1172e05"
      },
      "execution_count": 7,
      "outputs": [
        {
          "output_type": "stream",
          "name": "stdout",
          "text": [
            "dataset_CIFAR10.zip\n"
          ]
        }
      ]
    },
    {
      "cell_type": "code",
      "source": [
        "data_path = Path('/content/drive/MyDrive/AML/dataset_CIFAR10.zip')\n",
        "with zipfile.ZipFile(data_path,\"r\") as zip_ref:\n",
        "    zip_ref.extractall(\"data\")"
      ],
      "metadata": {
        "id": "Mj5VnDGTy5Ci"
      },
      "execution_count": 10,
      "outputs": []
    },
    {
      "cell_type": "code",
      "source": [],
      "metadata": {
        "id": "1M8pbDCnzjjV"
      },
      "execution_count": null,
      "outputs": []
    }
  ]
}