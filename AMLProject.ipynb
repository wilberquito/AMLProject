{
  "cells": [
    {
      "cell_type": "markdown",
      "metadata": {
        "colab_type": "text",
        "id": "view-in-github"
      },
      "source": [
        "<a href=\"https://colab.research.google.com/github/wilberquito/AMLProject/blob/main/AMLProject.ipynb\" target=\"_parent\"><img src=\"https://colab.research.google.com/assets/colab-badge.svg\" alt=\"Open In Colab\"/></a>"
      ]
    },
    {
      "cell_type": "markdown",
      "metadata": {
        "id": "b9R-jL0O6K3R"
      },
      "source": [
        "# Deep Learning Project: Image Classification\n",
        "## Advanced Machine Learning\n",
        "\n",
        "\n",
        "> Wilber E. Bermeo Quito \n",
        ">\n",
        "> Judit Quintana Massana\n",
        ">\n",
        "> April 2023"
      ]
    },
    {
      "cell_type": "markdown",
      "metadata": {
        "id": "FL_s5spz65yh"
      },
      "source": [
        "## "
      ]
    },
    {
      "cell_type": "code",
      "execution_count": 9,
      "metadata": {},
      "outputs": [],
      "source": [
        "import zipfile\n",
        "from pathlib import Path"
      ]
    },
    {
      "cell_type": "code",
      "execution_count": 10,
      "metadata": {},
      "outputs": [],
      "source": [
        "try:\n",
        "  import google.colab\n",
        "  IN_COLAB = True\n",
        "except:\n",
        "  IN_COLAB = False"
      ]
    },
    {
      "cell_type": "code",
      "execution_count": 12,
      "metadata": {
        "colab": {
          "base_uri": "https://localhost:8080/"
        },
        "id": "JeRTckoH3z9V",
        "outputId": "83a86486-0e69-46be-d346-34510aa08334"
      },
      "outputs": [],
      "source": [
        "if IN_COLAB:\n",
        "    ! pip install torchvision\n",
        "    from google.colab import drive\n",
        "    drive.mount('/content/drive')\n",
        "\n",
        "    data_path = Path('/content/drive/MyDrive/AML/dataset_CIFAR10.zip')\n",
        "    with zipfile.ZipFile(data_path,\"r\") as zip_ref:\n",
        "        zip_ref.extractall(\"data\")\n",
        "\n",
        "    data_path = Path('/content/drive/MyDrive/AML/modular.zip')\n",
        "    with zipfile.ZipFile(data_path,\"r\") as zip_ref:\n",
        "        zip_ref.extractall(\".\")"
      ]
    },
    {
      "cell_type": "code",
      "execution_count": 13,
      "metadata": {},
      "outputs": [
        {
          "data": {
            "text/plain": [
              "(Compose(\n",
              "     Resize(size=(512, 512), interpolation=bilinear, max_size=None, antialias=warn)\n",
              "     RandomHorizontalFlip(p=0.5)\n",
              "     RandomVerticalFlip(p=0.5)\n",
              "     GaussianBlur(kernel_size=(5, 9), sigma=(0.1, 5))\n",
              "     RandomRotation(degrees=[30.0, 70.0], interpolation=nearest, expand=False, fill=0)\n",
              "     ToTensor()\n",
              "     Normalize(mean=[0.5, 0.5, 0.5], std=[0.5, 0.5, 0.5])\n",
              " ),\n",
              " Compose(\n",
              "     Resize(size=(512, 512), interpolation=bilinear, max_size=None, antialias=warn)\n",
              "     ToTensor()\n",
              "     Normalize(mean=[0.5, 0.5, 0.5], std=[0.5, 0.5, 0.5])\n",
              " ))"
            ]
          },
          "execution_count": 13,
          "metadata": {},
          "output_type": "execute_result"
        }
      ],
      "source": [
        "import modular.datasets as datasets\n",
        "\n",
        "train_transform, valid_transform = datasets.get_transforms(512)\n",
        "\n",
        "train_transform, valid_transform"
      ]
    },
    {
      "cell_type": "code",
      "execution_count": null,
      "metadata": {},
      "outputs": [],
      "source": []
    }
  ],
  "metadata": {
    "colab": {
      "include_colab_link": true,
      "provenance": []
    },
    "kernelspec": {
      "display_name": "Python 3",
      "name": "python3"
    },
    "language_info": {
      "name": "python"
    }
  },
  "nbformat": 4,
  "nbformat_minor": 0
}
