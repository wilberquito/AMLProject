{
  "cells": [
    {
      "cell_type": "markdown",
      "metadata": {
        "id": "view-in-github",
        "colab_type": "text"
      },
      "source": [
        "<a href=\"https://colab.research.google.com/github/wilberquito/AMLProject/blob/main/notebooks/EfficientNet_V2_S.ipynb\" target=\"_parent\"><img src=\"https://colab.research.google.com/assets/colab-badge.svg\" alt=\"Open In Colab\"/></a>"
      ]
    },
    {
      "cell_type": "markdown",
      "metadata": {
        "id": "vKLkSOCUlVXt"
      },
      "source": [
        "# EfficintNet_V2_S"
      ]
    },
    {
      "cell_type": "code",
      "execution_count": null,
      "metadata": {
        "id": "9011X3GatmJQ",
        "tags": []
      },
      "outputs": [],
      "source": [
        "import zipfile\n",
        "from pathlib import Path\n",
        "import torch\n",
        "import matplotlib.pyplot as plt"
      ]
    },
    {
      "cell_type": "code",
      "execution_count": null,
      "metadata": {
        "id": "-wNAGwB8tmJS",
        "tags": []
      },
      "outputs": [],
      "source": [
        "try:\n",
        "    import google.colab\n",
        "    IN_COLAB = True\n",
        "except:\n",
        "    IN_COLAB = False"
      ]
    },
    {
      "cell_type": "code",
      "execution_count": null,
      "metadata": {
        "id": "uz_ZLYcfvVOy",
        "tags": []
      },
      "outputs": [],
      "source": [
        "if IN_COLAB:\n",
        "    ! pip install torchvision\n",
        "    ! pip install torchinfo"
      ]
    },
    {
      "cell_type": "code",
      "source": [
        "from torchvision.models import (resnet50, ResNet50_Weights,\n",
        "                                resnet101, ResNet101_Weights,\n",
        "                                efficientnet_b4, EfficientNet_B4_Weights,\n",
        "                                efficientnet_b6, EfficientNet_B6_Weights,\n",
        "                                efficientnet_b7, EfficientNet_B7_Weights,\n",
        "                                efficientnet_v2_s, EfficientNet_V2_S_Weights)\n",
        "\n",
        "net = efficientnet_v2_s(weights=EfficientNet_V2_S_Weights)\n",
        "net"
      ],
      "metadata": {
        "id": "LVbBo9mxemPJ"
      },
      "execution_count": null,
      "outputs": []
    },
    {
      "cell_type": "code",
      "source": [
        "EfficientNet_V2_S_Weights.IMAGENET1K_V1.transforms()"
      ],
      "metadata": {
        "id": "KrZfNLHEgwr8"
      },
      "execution_count": null,
      "outputs": []
    },
    {
      "cell_type": "code",
      "execution_count": null,
      "metadata": {
        "id": "JeRTckoH3z9V",
        "tags": []
      },
      "outputs": [],
      "source": [
        "if IN_COLAB:\n",
        "    from google.colab import drive\n",
        "    drive.mount('/content/drive')\n",
        "\n",
        "    !rm -rf data\n",
        "    data_path = Path('/content/drive/MyDrive/AML/dataset_CIFAR10.zip')\n",
        "    with zipfile.ZipFile(data_path,\"r\") as zip_ref:\n",
        "        zip_ref.extractall(\"data\")\n",
        "\n",
        "    !rm -rf modular\n",
        "    data_path = Path('/content/drive/MyDrive/AML/modular.zip')\n",
        "    with zipfile.ZipFile(data_path,\"r\") as zip_ref:\n",
        "        zip_ref.extractall(\".\")"
      ]
    },
    {
      "cell_type": "markdown",
      "metadata": {
        "id": "jY9n-bEqlVX1"
      },
      "source": [
        "## Show device available"
      ]
    },
    {
      "cell_type": "code",
      "execution_count": null,
      "metadata": {
        "tags": [],
        "id": "xE0d0JWVlVX1"
      },
      "outputs": [],
      "source": [
        "'cuda' if torch.cuda.is_available() else 'cpu'"
      ]
    },
    {
      "cell_type": "markdown",
      "metadata": {
        "id": "3gz8egxQlVX2"
      },
      "source": [
        "## Show model arquitecture"
      ]
    },
    {
      "cell_type": "code",
      "execution_count": null,
      "metadata": {
        "tags": [],
        "id": "0RTQaAsqlVX2"
      },
      "outputs": [],
      "source": [
        "from torchinfo import summary\n",
        "import modular.models as models\n",
        "from prettytable import PrettyTable"
      ]
    },
    {
      "cell_type": "code",
      "execution_count": null,
      "metadata": {
        "tags": [],
        "id": "Rjv9bETslVX3"
      },
      "outputs": [],
      "source": [
        "net = models.AMLEfficientNet_V2_S(10)"
      ]
    },
    {
      "cell_type": "code",
      "execution_count": null,
      "metadata": {
        "tags": [],
        "id": "J36S1lzYlVX4"
      },
      "outputs": [],
      "source": [
        "batch_size = 16\n",
        "img_size = 232\n",
        "summary(model=net, \n",
        "        input_size=(32, 3, img_size, img_size),\n",
        "        col_names=[\"input_size\", \"output_size\", \"num_params\", \"trainable\"],\n",
        "        col_width=20,\n",
        "        row_settings=[\"var_names\"]\n",
        ")"
      ]
    },
    {
      "cell_type": "code",
      "execution_count": null,
      "metadata": {
        "id": "wwv6QGpYZIsu",
        "tags": []
      },
      "outputs": [],
      "source": [
        "def count_parameters(model):\n",
        "    table = PrettyTable([\"Modules\", \"Parameters\"])\n",
        "    total_params = 0\n",
        "    for name, parameter in model.named_parameters():\n",
        "        if not parameter.requires_grad: \n",
        "            continue\n",
        "        params = parameter.numel()\n",
        "        table.add_row([name, params])\n",
        "        total_params+=params\n",
        "    print(table)\n",
        "    print(f\"Total Trainable Params: {total_params}\")\n",
        "    return total_params\n",
        "    \n",
        "_ = count_parameters(net)"
      ]
    },
    {
      "cell_type": "markdown",
      "metadata": {
        "id": "95CwxSqGlVX5"
      },
      "source": [
        "## Fine tunning"
      ]
    },
    {
      "cell_type": "code",
      "execution_count": 1,
      "metadata": {
        "id": "Ji3Z8oRLtmJZ",
        "tags": [],
        "colab": {
          "base_uri": "https://localhost:8080/"
        },
        "outputId": "55d8a45e-cae6-4462-d24f-0fe18eb99c67"
      },
      "outputs": [
        {
          "output_type": "stream",
          "name": "stderr",
          "text": [
            "/usr/local/lib/python3.9/dist-packages/torchvision/models/_utils.py:223: UserWarning: Arguments other than a weight enum or `None` for 'weights' are deprecated since 0.13 and may be removed in the future. The current behavior is equivalent to passing `weights=EfficientNet_V2_S_Weights.IMAGENET1K_V1`. You can also use `weights=EfficientNet_V2_S_Weights.DEFAULT` to get the most up-to-date weights.\n",
            "  warnings.warn(msg)\n"
          ]
        }
      ],
      "source": [
        "import torch\n",
        "import modular.datasets as datasets\n",
        "import modular.models as models \n",
        "from pathlib import Path\n",
        "from modular.engine import train\n",
        "import torchvision.transforms as transforms\n",
        "from modular.utils import set_seeds\n",
        "\n",
        "set_seeds(seed=42)\n",
        "\n",
        "# Model\n",
        "net = models.AMLEfficientNet_V2_S(10)\n",
        "# Let base train\n",
        "net.unfreeze_base()\n",
        "\n",
        "train_transforms, validate_transforms = net.transforms, net.transforms\n",
        "\n",
        "augmentation = transforms.Compose([\n",
        "    transforms.RandomHorizontalFlip(),\n",
        "    transforms.RandomRotation(degrees=15),\n",
        "    transforms.ColorJitter(brightness=0.1, contrast=0.1, saturation=0.1, hue=0.1),\n",
        "    transforms.RandomPerspective(),\n",
        "])\n",
        "\n",
        "train_transforms = transforms.Compose([augmentation, train_transforms])\n",
        "\n",
        "# Optimizer\n",
        "lr = 0.001\n",
        "optimizer = torch.optim.Adam(params=net.parameters(),\n",
        "                             lr=lr)\n",
        "\n",
        "# Criterion\n",
        "criterion = torch.nn.CrossEntropyLoss()\n",
        "\n",
        "# Number of epochs to train the model\n",
        "epochs = 2\n",
        "\n",
        "# Default device to train model\n",
        "device = 'cuda' if torch.cuda.is_available() else 'cpu'\n",
        "device = torch.device(device)\n",
        "\n",
        "# Where the model is saved\n",
        "save_as = Path('finetune.efficientnet_v2_s.pth')\n",
        "\n",
        "# Mini batch\n",
        "batch_size=30\n",
        "\n",
        "train_dataloader = datasets.get_dataloader(folder_root='data/train',\n",
        "                                           transformer=train_transforms,\n",
        "                                           batch_size=batch_size,\n",
        "                                           suffle=True)\n",
        "validate_dataloader = datasets.get_dataloader(folder_root='data/validation',\n",
        "                                           transformer=validate_transforms,\n",
        "                                           batch_size=batch_size,\n",
        "                                           suffle=False)"
      ]
    },
    {
      "cell_type": "code",
      "execution_count": null,
      "metadata": {
        "colab": {
          "base_uri": "https://localhost:8080/",
          "height": 81,
          "referenced_widgets": [
            "2437bec6dfdb4422a66f3529336102fa",
            "8defe990e5404cfab7cb7140947d9a93",
            "7b9a6a01aa164ae084de6167c7e23f2c",
            "cf4307285dda4005ba75615947381080",
            "ea71bf11a13e488d8be32791cf63e29c",
            "bacc226d102b43419f5dc1154b863cb2",
            "54c968a96a934113a2d3962e8578f892",
            "f5175ec60a5c476cb4eeb031abd64e2d",
            "fc239178c6de431095fdb0af9f4d80f6",
            "1d877f78969145c4a5aa496ef11f660b",
            "7b9b0e8f497f41ccb14009d578959ca3",
            "e840bf8d4f154fb58a5ad0ba2374362d",
            "df7f231f063f441e9e8d6e86fd4e6184",
            "a585f7d3fb254eb6af4c1435c1a36dc4",
            "cc35559ce2fb46e28c155fd4716ebbdc",
            "730b0c298f8147ee9d1b0ce85e8c0743",
            "598a215f30854c1eb2bacbc907a922ae",
            "d5f86494ea6a491392a409ef8324d650",
            "5d20b65968cb4b28825a776e0abb4ebf",
            "7cbe39ad458d44d0bf9e9004be143c2f",
            "26358567ac1a427bbac328511c86d9d7",
            "223ec92c9cf344f1b0b2141b7a2b509c"
          ]
        },
        "id": "azyPF8712Jx9",
        "outputId": "1ffb53c5-be85-468d-8813-9ce48f1af46b",
        "tags": []
      },
      "outputs": [
        {
          "output_type": "display_data",
          "data": {
            "text/plain": [
              "  0%|          | 0/2 [00:00<?, ?it/s]"
            ],
            "application/vnd.jupyter.widget-view+json": {
              "version_major": 2,
              "version_minor": 0,
              "model_id": "2437bec6dfdb4422a66f3529336102fa"
            }
          },
          "metadata": {}
        },
        {
          "output_type": "display_data",
          "data": {
            "text/plain": [
              "0it [00:00, ?it/s]"
            ],
            "application/vnd.jupyter.widget-view+json": {
              "version_major": 2,
              "version_minor": 0,
              "model_id": "e840bf8d4f154fb58a5ad0ba2374362d"
            }
          },
          "metadata": {}
        }
      ],
      "source": [
        "results = train(model=net,\n",
        "                train_dataloader=train_dataloader,\n",
        "                test_dataloader=validate_dataloader,\n",
        "                optimizer=optimizer,\n",
        "                criterion=criterion,\n",
        "                epochs=epochs,\n",
        "                device=device,\n",
        "                save_as=save_as)"
      ]
    },
    {
      "cell_type": "code",
      "execution_count": null,
      "metadata": {
        "tags": [],
        "id": "VmFVWKFMlVX7"
      },
      "outputs": [],
      "source": [
        "from modular.utils import plot_loss_curves\n",
        "plot_loss_curves(results)"
      ]
    },
    {
      "cell_type": "code",
      "source": [
        "if IN_COLAB:\n",
        "  from google.colab import files\n",
        "  files.download('finetune.amlresnet101.pth')"
      ],
      "metadata": {
        "id": "M2JmdRtkmgYU"
      },
      "execution_count": null,
      "outputs": []
    },
    {
      "cell_type": "markdown",
      "metadata": {
        "id": "1kALm3AN5zlt"
      },
      "source": [
        "## Training find tunning AMLResnet101"
      ]
    },
    {
      "cell_type": "code",
      "execution_count": null,
      "metadata": {
        "tags": [],
        "id": "cQXJgL9DlVX8"
      },
      "outputs": [],
      "source": [
        "import torch\n",
        "from pathlib import Path\n",
        "\n",
        "saved_data = torch.load(Path('trained/finetune.amlresnet101.pth'))\n",
        "saved_data.keys()"
      ]
    },
    {
      "cell_type": "code",
      "execution_count": null,
      "metadata": {
        "id": "nXPHwfsZ09Bp",
        "tags": []
      },
      "outputs": [],
      "source": [
        "import torch\n",
        "import modular.datasets as datasets\n",
        "import modular.models as models \n",
        "from pathlib import Path\n",
        "from modular.engine import train\n",
        "import torchvision.transforms as transforms\n",
        "from modular.utils import set_seeds\n",
        "\n",
        "set_seeds(seed=42)\n",
        "\n",
        "# Model\n",
        "amlresnet101 = models.AMLResnet101(out_dim=10)\n",
        "# Recover state dict\n",
        "state_dict = saved_data['model']\n",
        "# Load saved state dict into the model\n",
        "amlresnet101.load_state_dict(state_dict)\n",
        "# Freeze base\n",
        "amlresnet101.freeze_base()\n",
        "\n",
        "train_transforms, validate_transforms = amlresnet101.transforms, amlresnet101.transforms\n",
        "\n",
        "augmentation = transforms.Compose([\n",
        "    transforms.RandomHorizontalFlip(),\n",
        "    transforms.RandomRotation(degrees=15),\n",
        "    transforms.ColorJitter(brightness=0.1, contrast=0.1, saturation=0.1, hue=0.1),\n",
        "    transforms.RandomPerspective(),\n",
        "])\n",
        "\n",
        "train_transforms = transforms.Compose([augmentation, train_transforms])\n",
        "\n",
        "# Optimizer\n",
        "lr = 0.001\n",
        "optimizer = torch.optim.Adam(params=amlresnet101.parameters(),\n",
        "                             lr=lr)\n",
        "\n",
        "# Criterion\n",
        "criterion = torch.nn.CrossEntropyLoss()\n",
        "\n",
        "# Number of epochs to train the model\n",
        "epochs = 10\n",
        "\n",
        "# Default device to train model\n",
        "device = 'cuda' if torch.cuda.is_available() else 'cpu'\n",
        "device = torch.device(device)\n",
        "\n",
        "# Where the model is saved\n",
        "save_as = Path('trained/amlresnet101.pth')\n",
        "\n",
        "# Mini batch\n",
        "batch_size=125\n",
        "\n",
        "train_dataloader = datasets.get_dataloader(folder_root='data/train',\n",
        "                                           transformer=train_transforms,\n",
        "                                           batch_size=batch_size,\n",
        "                                           suffle=True)\n",
        "validate_dataloader = datasets.get_dataloader(folder_root='data/validation',\n",
        "                                           transformer=validate_transforms,\n",
        "                                           batch_size=batch_size,\n",
        "                                           suffle=False)"
      ]
    },
    {
      "cell_type": "code",
      "execution_count": null,
      "metadata": {
        "id": "GitELO4d6vwd",
        "tags": []
      },
      "outputs": [],
      "source": [
        "results = train(model=amlresnet101,\n",
        "                train_dataloader=train_dataloader,\n",
        "                test_dataloader=validate_dataloader,\n",
        "                optimizer=optimizer,\n",
        "                criterion=criterion,\n",
        "                epochs=epochs,\n",
        "                device=device,\n",
        "                save_as=save_as)"
      ]
    },
    {
      "cell_type": "code",
      "execution_count": null,
      "metadata": {
        "tags": [],
        "id": "sMdMsrjwlVX9"
      },
      "outputs": [],
      "source": [
        "from modular.utils import plot_loss_curves\n",
        "plot_loss_curves(results)"
      ]
    },
    {
      "cell_type": "code",
      "execution_count": null,
      "metadata": {
        "id": "2QJHst75lVX-"
      },
      "outputs": [],
      "source": []
    }
  ],
  "metadata": {
    "accelerator": "GPU",
    "colab": {
      "provenance": [],
      "include_colab_link": true
    },
    "gpuClass": "standard",
    "kernelspec": {
      "display_name": "Python 3 (ipykernel)",
      "language": "python",
      "name": "python3"
    },
    "language_info": {
      "codemirror_mode": {
        "name": "ipython",
        "version": 3
      },
      "file_extension": ".py",
      "mimetype": "text/x-python",
      "name": "python",
      "nbconvert_exporter": "python",
      "pygments_lexer": "ipython3",
      "version": "3.9.16"
    },
    "vscode": {
      "interpreter": {
        "hash": "a51997b6205cd3e135cc11e45fa33f5a9324fcb8277fbd32f318639a169dea57"
      }
    },
    "widgets": {
      "application/vnd.jupyter.widget-state+json": {
        "2437bec6dfdb4422a66f3529336102fa": {
          "model_module": "@jupyter-widgets/controls",
          "model_name": "HBoxModel",
          "model_module_version": "1.5.0",
          "state": {
            "_dom_classes": [],
            "_model_module": "@jupyter-widgets/controls",
            "_model_module_version": "1.5.0",
            "_model_name": "HBoxModel",
            "_view_count": null,
            "_view_module": "@jupyter-widgets/controls",
            "_view_module_version": "1.5.0",
            "_view_name": "HBoxView",
            "box_style": "",
            "children": [
              "IPY_MODEL_8defe990e5404cfab7cb7140947d9a93",
              "IPY_MODEL_7b9a6a01aa164ae084de6167c7e23f2c",
              "IPY_MODEL_cf4307285dda4005ba75615947381080"
            ],
            "layout": "IPY_MODEL_ea71bf11a13e488d8be32791cf63e29c"
          }
        },
        "8defe990e5404cfab7cb7140947d9a93": {
          "model_module": "@jupyter-widgets/controls",
          "model_name": "HTMLModel",
          "model_module_version": "1.5.0",
          "state": {
            "_dom_classes": [],
            "_model_module": "@jupyter-widgets/controls",
            "_model_module_version": "1.5.0",
            "_model_name": "HTMLModel",
            "_view_count": null,
            "_view_module": "@jupyter-widgets/controls",
            "_view_module_version": "1.5.0",
            "_view_name": "HTMLView",
            "description": "",
            "description_tooltip": null,
            "layout": "IPY_MODEL_bacc226d102b43419f5dc1154b863cb2",
            "placeholder": "​",
            "style": "IPY_MODEL_54c968a96a934113a2d3962e8578f892",
            "value": "  0%"
          }
        },
        "7b9a6a01aa164ae084de6167c7e23f2c": {
          "model_module": "@jupyter-widgets/controls",
          "model_name": "FloatProgressModel",
          "model_module_version": "1.5.0",
          "state": {
            "_dom_classes": [],
            "_model_module": "@jupyter-widgets/controls",
            "_model_module_version": "1.5.0",
            "_model_name": "FloatProgressModel",
            "_view_count": null,
            "_view_module": "@jupyter-widgets/controls",
            "_view_module_version": "1.5.0",
            "_view_name": "ProgressView",
            "bar_style": "",
            "description": "",
            "description_tooltip": null,
            "layout": "IPY_MODEL_f5175ec60a5c476cb4eeb031abd64e2d",
            "max": 2,
            "min": 0,
            "orientation": "horizontal",
            "style": "IPY_MODEL_fc239178c6de431095fdb0af9f4d80f6",
            "value": 0
          }
        },
        "cf4307285dda4005ba75615947381080": {
          "model_module": "@jupyter-widgets/controls",
          "model_name": "HTMLModel",
          "model_module_version": "1.5.0",
          "state": {
            "_dom_classes": [],
            "_model_module": "@jupyter-widgets/controls",
            "_model_module_version": "1.5.0",
            "_model_name": "HTMLModel",
            "_view_count": null,
            "_view_module": "@jupyter-widgets/controls",
            "_view_module_version": "1.5.0",
            "_view_name": "HTMLView",
            "description": "",
            "description_tooltip": null,
            "layout": "IPY_MODEL_1d877f78969145c4a5aa496ef11f660b",
            "placeholder": "​",
            "style": "IPY_MODEL_7b9b0e8f497f41ccb14009d578959ca3",
            "value": " 0/2 [00:00&lt;?, ?it/s]"
          }
        },
        "ea71bf11a13e488d8be32791cf63e29c": {
          "model_module": "@jupyter-widgets/base",
          "model_name": "LayoutModel",
          "model_module_version": "1.2.0",
          "state": {
            "_model_module": "@jupyter-widgets/base",
            "_model_module_version": "1.2.0",
            "_model_name": "LayoutModel",
            "_view_count": null,
            "_view_module": "@jupyter-widgets/base",
            "_view_module_version": "1.2.0",
            "_view_name": "LayoutView",
            "align_content": null,
            "align_items": null,
            "align_self": null,
            "border": null,
            "bottom": null,
            "display": null,
            "flex": null,
            "flex_flow": null,
            "grid_area": null,
            "grid_auto_columns": null,
            "grid_auto_flow": null,
            "grid_auto_rows": null,
            "grid_column": null,
            "grid_gap": null,
            "grid_row": null,
            "grid_template_areas": null,
            "grid_template_columns": null,
            "grid_template_rows": null,
            "height": null,
            "justify_content": null,
            "justify_items": null,
            "left": null,
            "margin": null,
            "max_height": null,
            "max_width": null,
            "min_height": null,
            "min_width": null,
            "object_fit": null,
            "object_position": null,
            "order": null,
            "overflow": null,
            "overflow_x": null,
            "overflow_y": null,
            "padding": null,
            "right": null,
            "top": null,
            "visibility": null,
            "width": null
          }
        },
        "bacc226d102b43419f5dc1154b863cb2": {
          "model_module": "@jupyter-widgets/base",
          "model_name": "LayoutModel",
          "model_module_version": "1.2.0",
          "state": {
            "_model_module": "@jupyter-widgets/base",
            "_model_module_version": "1.2.0",
            "_model_name": "LayoutModel",
            "_view_count": null,
            "_view_module": "@jupyter-widgets/base",
            "_view_module_version": "1.2.0",
            "_view_name": "LayoutView",
            "align_content": null,
            "align_items": null,
            "align_self": null,
            "border": null,
            "bottom": null,
            "display": null,
            "flex": null,
            "flex_flow": null,
            "grid_area": null,
            "grid_auto_columns": null,
            "grid_auto_flow": null,
            "grid_auto_rows": null,
            "grid_column": null,
            "grid_gap": null,
            "grid_row": null,
            "grid_template_areas": null,
            "grid_template_columns": null,
            "grid_template_rows": null,
            "height": null,
            "justify_content": null,
            "justify_items": null,
            "left": null,
            "margin": null,
            "max_height": null,
            "max_width": null,
            "min_height": null,
            "min_width": null,
            "object_fit": null,
            "object_position": null,
            "order": null,
            "overflow": null,
            "overflow_x": null,
            "overflow_y": null,
            "padding": null,
            "right": null,
            "top": null,
            "visibility": null,
            "width": null
          }
        },
        "54c968a96a934113a2d3962e8578f892": {
          "model_module": "@jupyter-widgets/controls",
          "model_name": "DescriptionStyleModel",
          "model_module_version": "1.5.0",
          "state": {
            "_model_module": "@jupyter-widgets/controls",
            "_model_module_version": "1.5.0",
            "_model_name": "DescriptionStyleModel",
            "_view_count": null,
            "_view_module": "@jupyter-widgets/base",
            "_view_module_version": "1.2.0",
            "_view_name": "StyleView",
            "description_width": ""
          }
        },
        "f5175ec60a5c476cb4eeb031abd64e2d": {
          "model_module": "@jupyter-widgets/base",
          "model_name": "LayoutModel",
          "model_module_version": "1.2.0",
          "state": {
            "_model_module": "@jupyter-widgets/base",
            "_model_module_version": "1.2.0",
            "_model_name": "LayoutModel",
            "_view_count": null,
            "_view_module": "@jupyter-widgets/base",
            "_view_module_version": "1.2.0",
            "_view_name": "LayoutView",
            "align_content": null,
            "align_items": null,
            "align_self": null,
            "border": null,
            "bottom": null,
            "display": null,
            "flex": null,
            "flex_flow": null,
            "grid_area": null,
            "grid_auto_columns": null,
            "grid_auto_flow": null,
            "grid_auto_rows": null,
            "grid_column": null,
            "grid_gap": null,
            "grid_row": null,
            "grid_template_areas": null,
            "grid_template_columns": null,
            "grid_template_rows": null,
            "height": null,
            "justify_content": null,
            "justify_items": null,
            "left": null,
            "margin": null,
            "max_height": null,
            "max_width": null,
            "min_height": null,
            "min_width": null,
            "object_fit": null,
            "object_position": null,
            "order": null,
            "overflow": null,
            "overflow_x": null,
            "overflow_y": null,
            "padding": null,
            "right": null,
            "top": null,
            "visibility": null,
            "width": null
          }
        },
        "fc239178c6de431095fdb0af9f4d80f6": {
          "model_module": "@jupyter-widgets/controls",
          "model_name": "ProgressStyleModel",
          "model_module_version": "1.5.0",
          "state": {
            "_model_module": "@jupyter-widgets/controls",
            "_model_module_version": "1.5.0",
            "_model_name": "ProgressStyleModel",
            "_view_count": null,
            "_view_module": "@jupyter-widgets/base",
            "_view_module_version": "1.2.0",
            "_view_name": "StyleView",
            "bar_color": null,
            "description_width": ""
          }
        },
        "1d877f78969145c4a5aa496ef11f660b": {
          "model_module": "@jupyter-widgets/base",
          "model_name": "LayoutModel",
          "model_module_version": "1.2.0",
          "state": {
            "_model_module": "@jupyter-widgets/base",
            "_model_module_version": "1.2.0",
            "_model_name": "LayoutModel",
            "_view_count": null,
            "_view_module": "@jupyter-widgets/base",
            "_view_module_version": "1.2.0",
            "_view_name": "LayoutView",
            "align_content": null,
            "align_items": null,
            "align_self": null,
            "border": null,
            "bottom": null,
            "display": null,
            "flex": null,
            "flex_flow": null,
            "grid_area": null,
            "grid_auto_columns": null,
            "grid_auto_flow": null,
            "grid_auto_rows": null,
            "grid_column": null,
            "grid_gap": null,
            "grid_row": null,
            "grid_template_areas": null,
            "grid_template_columns": null,
            "grid_template_rows": null,
            "height": null,
            "justify_content": null,
            "justify_items": null,
            "left": null,
            "margin": null,
            "max_height": null,
            "max_width": null,
            "min_height": null,
            "min_width": null,
            "object_fit": null,
            "object_position": null,
            "order": null,
            "overflow": null,
            "overflow_x": null,
            "overflow_y": null,
            "padding": null,
            "right": null,
            "top": null,
            "visibility": null,
            "width": null
          }
        },
        "7b9b0e8f497f41ccb14009d578959ca3": {
          "model_module": "@jupyter-widgets/controls",
          "model_name": "DescriptionStyleModel",
          "model_module_version": "1.5.0",
          "state": {
            "_model_module": "@jupyter-widgets/controls",
            "_model_module_version": "1.5.0",
            "_model_name": "DescriptionStyleModel",
            "_view_count": null,
            "_view_module": "@jupyter-widgets/base",
            "_view_module_version": "1.2.0",
            "_view_name": "StyleView",
            "description_width": ""
          }
        },
        "e840bf8d4f154fb58a5ad0ba2374362d": {
          "model_module": "@jupyter-widgets/controls",
          "model_name": "HBoxModel",
          "model_module_version": "1.5.0",
          "state": {
            "_dom_classes": [],
            "_model_module": "@jupyter-widgets/controls",
            "_model_module_version": "1.5.0",
            "_model_name": "HBoxModel",
            "_view_count": null,
            "_view_module": "@jupyter-widgets/controls",
            "_view_module_version": "1.5.0",
            "_view_name": "HBoxView",
            "box_style": "",
            "children": [
              "IPY_MODEL_df7f231f063f441e9e8d6e86fd4e6184",
              "IPY_MODEL_a585f7d3fb254eb6af4c1435c1a36dc4",
              "IPY_MODEL_cc35559ce2fb46e28c155fd4716ebbdc"
            ],
            "layout": "IPY_MODEL_730b0c298f8147ee9d1b0ce85e8c0743"
          }
        },
        "df7f231f063f441e9e8d6e86fd4e6184": {
          "model_module": "@jupyter-widgets/controls",
          "model_name": "HTMLModel",
          "model_module_version": "1.5.0",
          "state": {
            "_dom_classes": [],
            "_model_module": "@jupyter-widgets/controls",
            "_model_module_version": "1.5.0",
            "_model_name": "HTMLModel",
            "_view_count": null,
            "_view_module": "@jupyter-widgets/controls",
            "_view_module_version": "1.5.0",
            "_view_name": "HTMLView",
            "description": "",
            "description_tooltip": null,
            "layout": "IPY_MODEL_598a215f30854c1eb2bacbc907a922ae",
            "placeholder": "​",
            "style": "IPY_MODEL_d5f86494ea6a491392a409ef8324d650",
            "value": ""
          }
        },
        "a585f7d3fb254eb6af4c1435c1a36dc4": {
          "model_module": "@jupyter-widgets/controls",
          "model_name": "FloatProgressModel",
          "model_module_version": "1.5.0",
          "state": {
            "_dom_classes": [],
            "_model_module": "@jupyter-widgets/controls",
            "_model_module_version": "1.5.0",
            "_model_name": "FloatProgressModel",
            "_view_count": null,
            "_view_module": "@jupyter-widgets/controls",
            "_view_module_version": "1.5.0",
            "_view_name": "ProgressView",
            "bar_style": "info",
            "description": "",
            "description_tooltip": null,
            "layout": "IPY_MODEL_5d20b65968cb4b28825a776e0abb4ebf",
            "max": 1,
            "min": 0,
            "orientation": "horizontal",
            "style": "IPY_MODEL_7cbe39ad458d44d0bf9e9004be143c2f",
            "value": 1
          }
        },
        "cc35559ce2fb46e28c155fd4716ebbdc": {
          "model_module": "@jupyter-widgets/controls",
          "model_name": "HTMLModel",
          "model_module_version": "1.5.0",
          "state": {
            "_dom_classes": [],
            "_model_module": "@jupyter-widgets/controls",
            "_model_module_version": "1.5.0",
            "_model_name": "HTMLModel",
            "_view_count": null,
            "_view_module": "@jupyter-widgets/controls",
            "_view_module_version": "1.5.0",
            "_view_name": "HTMLView",
            "description": "",
            "description_tooltip": null,
            "layout": "IPY_MODEL_26358567ac1a427bbac328511c86d9d7",
            "placeholder": "​",
            "style": "IPY_MODEL_223ec92c9cf344f1b0b2141b7a2b509c",
            "value": " 232/? [04:26&lt;00:00,  1.12s/it]"
          }
        },
        "730b0c298f8147ee9d1b0ce85e8c0743": {
          "model_module": "@jupyter-widgets/base",
          "model_name": "LayoutModel",
          "model_module_version": "1.2.0",
          "state": {
            "_model_module": "@jupyter-widgets/base",
            "_model_module_version": "1.2.0",
            "_model_name": "LayoutModel",
            "_view_count": null,
            "_view_module": "@jupyter-widgets/base",
            "_view_module_version": "1.2.0",
            "_view_name": "LayoutView",
            "align_content": null,
            "align_items": null,
            "align_self": null,
            "border": null,
            "bottom": null,
            "display": null,
            "flex": null,
            "flex_flow": null,
            "grid_area": null,
            "grid_auto_columns": null,
            "grid_auto_flow": null,
            "grid_auto_rows": null,
            "grid_column": null,
            "grid_gap": null,
            "grid_row": null,
            "grid_template_areas": null,
            "grid_template_columns": null,
            "grid_template_rows": null,
            "height": null,
            "justify_content": null,
            "justify_items": null,
            "left": null,
            "margin": null,
            "max_height": null,
            "max_width": null,
            "min_height": null,
            "min_width": null,
            "object_fit": null,
            "object_position": null,
            "order": null,
            "overflow": null,
            "overflow_x": null,
            "overflow_y": null,
            "padding": null,
            "right": null,
            "top": null,
            "visibility": null,
            "width": null
          }
        },
        "598a215f30854c1eb2bacbc907a922ae": {
          "model_module": "@jupyter-widgets/base",
          "model_name": "LayoutModel",
          "model_module_version": "1.2.0",
          "state": {
            "_model_module": "@jupyter-widgets/base",
            "_model_module_version": "1.2.0",
            "_model_name": "LayoutModel",
            "_view_count": null,
            "_view_module": "@jupyter-widgets/base",
            "_view_module_version": "1.2.0",
            "_view_name": "LayoutView",
            "align_content": null,
            "align_items": null,
            "align_self": null,
            "border": null,
            "bottom": null,
            "display": null,
            "flex": null,
            "flex_flow": null,
            "grid_area": null,
            "grid_auto_columns": null,
            "grid_auto_flow": null,
            "grid_auto_rows": null,
            "grid_column": null,
            "grid_gap": null,
            "grid_row": null,
            "grid_template_areas": null,
            "grid_template_columns": null,
            "grid_template_rows": null,
            "height": null,
            "justify_content": null,
            "justify_items": null,
            "left": null,
            "margin": null,
            "max_height": null,
            "max_width": null,
            "min_height": null,
            "min_width": null,
            "object_fit": null,
            "object_position": null,
            "order": null,
            "overflow": null,
            "overflow_x": null,
            "overflow_y": null,
            "padding": null,
            "right": null,
            "top": null,
            "visibility": null,
            "width": null
          }
        },
        "d5f86494ea6a491392a409ef8324d650": {
          "model_module": "@jupyter-widgets/controls",
          "model_name": "DescriptionStyleModel",
          "model_module_version": "1.5.0",
          "state": {
            "_model_module": "@jupyter-widgets/controls",
            "_model_module_version": "1.5.0",
            "_model_name": "DescriptionStyleModel",
            "_view_count": null,
            "_view_module": "@jupyter-widgets/base",
            "_view_module_version": "1.2.0",
            "_view_name": "StyleView",
            "description_width": ""
          }
        },
        "5d20b65968cb4b28825a776e0abb4ebf": {
          "model_module": "@jupyter-widgets/base",
          "model_name": "LayoutModel",
          "model_module_version": "1.2.0",
          "state": {
            "_model_module": "@jupyter-widgets/base",
            "_model_module_version": "1.2.0",
            "_model_name": "LayoutModel",
            "_view_count": null,
            "_view_module": "@jupyter-widgets/base",
            "_view_module_version": "1.2.0",
            "_view_name": "LayoutView",
            "align_content": null,
            "align_items": null,
            "align_self": null,
            "border": null,
            "bottom": null,
            "display": null,
            "flex": null,
            "flex_flow": null,
            "grid_area": null,
            "grid_auto_columns": null,
            "grid_auto_flow": null,
            "grid_auto_rows": null,
            "grid_column": null,
            "grid_gap": null,
            "grid_row": null,
            "grid_template_areas": null,
            "grid_template_columns": null,
            "grid_template_rows": null,
            "height": null,
            "justify_content": null,
            "justify_items": null,
            "left": null,
            "margin": null,
            "max_height": null,
            "max_width": null,
            "min_height": null,
            "min_width": null,
            "object_fit": null,
            "object_position": null,
            "order": null,
            "overflow": null,
            "overflow_x": null,
            "overflow_y": null,
            "padding": null,
            "right": null,
            "top": null,
            "visibility": null,
            "width": "20px"
          }
        },
        "7cbe39ad458d44d0bf9e9004be143c2f": {
          "model_module": "@jupyter-widgets/controls",
          "model_name": "ProgressStyleModel",
          "model_module_version": "1.5.0",
          "state": {
            "_model_module": "@jupyter-widgets/controls",
            "_model_module_version": "1.5.0",
            "_model_name": "ProgressStyleModel",
            "_view_count": null,
            "_view_module": "@jupyter-widgets/base",
            "_view_module_version": "1.2.0",
            "_view_name": "StyleView",
            "bar_color": null,
            "description_width": ""
          }
        },
        "26358567ac1a427bbac328511c86d9d7": {
          "model_module": "@jupyter-widgets/base",
          "model_name": "LayoutModel",
          "model_module_version": "1.2.0",
          "state": {
            "_model_module": "@jupyter-widgets/base",
            "_model_module_version": "1.2.0",
            "_model_name": "LayoutModel",
            "_view_count": null,
            "_view_module": "@jupyter-widgets/base",
            "_view_module_version": "1.2.0",
            "_view_name": "LayoutView",
            "align_content": null,
            "align_items": null,
            "align_self": null,
            "border": null,
            "bottom": null,
            "display": null,
            "flex": null,
            "flex_flow": null,
            "grid_area": null,
            "grid_auto_columns": null,
            "grid_auto_flow": null,
            "grid_auto_rows": null,
            "grid_column": null,
            "grid_gap": null,
            "grid_row": null,
            "grid_template_areas": null,
            "grid_template_columns": null,
            "grid_template_rows": null,
            "height": null,
            "justify_content": null,
            "justify_items": null,
            "left": null,
            "margin": null,
            "max_height": null,
            "max_width": null,
            "min_height": null,
            "min_width": null,
            "object_fit": null,
            "object_position": null,
            "order": null,
            "overflow": null,
            "overflow_x": null,
            "overflow_y": null,
            "padding": null,
            "right": null,
            "top": null,
            "visibility": null,
            "width": null
          }
        },
        "223ec92c9cf344f1b0b2141b7a2b509c": {
          "model_module": "@jupyter-widgets/controls",
          "model_name": "DescriptionStyleModel",
          "model_module_version": "1.5.0",
          "state": {
            "_model_module": "@jupyter-widgets/controls",
            "_model_module_version": "1.5.0",
            "_model_name": "DescriptionStyleModel",
            "_view_count": null,
            "_view_module": "@jupyter-widgets/base",
            "_view_module_version": "1.2.0",
            "_view_name": "StyleView",
            "description_width": ""
          }
        }
      }
    }
  },
  "nbformat": 4,
  "nbformat_minor": 0
}